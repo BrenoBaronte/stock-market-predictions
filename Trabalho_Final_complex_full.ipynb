{
  "nbformat": 4,
  "nbformat_minor": 0,
  "metadata": {
    "colab": {
      "name": "Trabalho Final - complex full.ipynb",
      "provenance": [],
      "authorship_tag": "ABX9TyNiOAgKxaLylxBYnWI5iub8",
      "include_colab_link": true
    },
    "kernelspec": {
      "name": "python3",
      "display_name": "Python 3"
    }
  },
  "cells": [
    {
      "cell_type": "markdown",
      "metadata": {
        "id": "view-in-github",
        "colab_type": "text"
      },
      "source": [
        "<a href=\"https://colab.research.google.com/github/BrenoBaronte/stock-market-predictions/blob/main/Trabalho_Final_complex_full.ipynb\" target=\"_parent\"><img src=\"https://colab.research.google.com/assets/colab-badge.svg\" alt=\"Open In Colab\"/></a>"
      ]
    },
    {
      "cell_type": "code",
      "metadata": {
        "colab": {
          "base_uri": "https://localhost:8080/"
        },
        "id": "Wz4H3_Ig1nWv",
        "outputId": "8742b4ed-0f75-4fa7-9707-65bfe3b73462"
      },
      "source": [
        "# Step 0 - importing the dataset file\r\n",
        "!pip install pydrive\r\n",
        "from pydrive.auth import GoogleAuth\r\n",
        "from pydrive.drive import GoogleDrive\r\n",
        "from google.colab import auth\r\n",
        "from oauth2client.client import GoogleCredentials\r\n",
        "\r\n",
        "auth.authenticate_user()\r\n",
        "gauth = GoogleAuth()\r\n",
        "gauth.credentials = GoogleCredentials.get_application_default()\r\n",
        "drive = GoogleDrive(gauth)\r\n",
        "\r\n",
        "file_id = '12bWmhsQoeAOk2JLCOzlRsk0IMQaKD6s2'\r\n",
        "downloaded = drive.CreateFile({'id': file_id})\r\n",
        "downloaded.GetContentFile('dataset_daily_msft_training.csv')"
      ],
      "execution_count": null,
      "outputs": [
        {
          "output_type": "stream",
          "text": [
            "Requirement already satisfied: pydrive in /usr/local/lib/python3.6/dist-packages (1.3.1)\n",
            "Requirement already satisfied: google-api-python-client>=1.2 in /usr/local/lib/python3.6/dist-packages (from pydrive) (1.7.12)\n",
            "Requirement already satisfied: oauth2client>=4.0.0 in /usr/local/lib/python3.6/dist-packages (from pydrive) (4.1.3)\n",
            "Requirement already satisfied: PyYAML>=3.0 in /usr/local/lib/python3.6/dist-packages (from pydrive) (3.13)\n",
            "Requirement already satisfied: httplib2<1dev,>=0.17.0 in /usr/local/lib/python3.6/dist-packages (from google-api-python-client>=1.2->pydrive) (0.17.4)\n",
            "Requirement already satisfied: google-auth-httplib2>=0.0.3 in /usr/local/lib/python3.6/dist-packages (from google-api-python-client>=1.2->pydrive) (0.0.4)\n",
            "Requirement already satisfied: six<2dev,>=1.6.1 in /usr/local/lib/python3.6/dist-packages (from google-api-python-client>=1.2->pydrive) (1.15.0)\n",
            "Requirement already satisfied: google-auth>=1.4.1 in /usr/local/lib/python3.6/dist-packages (from google-api-python-client>=1.2->pydrive) (1.17.2)\n",
            "Requirement already satisfied: uritemplate<4dev,>=3.0.0 in /usr/local/lib/python3.6/dist-packages (from google-api-python-client>=1.2->pydrive) (3.0.1)\n",
            "Requirement already satisfied: pyasn1-modules>=0.0.5 in /usr/local/lib/python3.6/dist-packages (from oauth2client>=4.0.0->pydrive) (0.2.8)\n",
            "Requirement already satisfied: pyasn1>=0.1.7 in /usr/local/lib/python3.6/dist-packages (from oauth2client>=4.0.0->pydrive) (0.4.8)\n",
            "Requirement already satisfied: rsa>=3.1.4 in /usr/local/lib/python3.6/dist-packages (from oauth2client>=4.0.0->pydrive) (4.6)\n",
            "Requirement already satisfied: cachetools<5.0,>=2.0.0 in /usr/local/lib/python3.6/dist-packages (from google-auth>=1.4.1->google-api-python-client>=1.2->pydrive) (4.2.0)\n",
            "Requirement already satisfied: setuptools>=40.3.0 in /usr/local/lib/python3.6/dist-packages (from google-auth>=1.4.1->google-api-python-client>=1.2->pydrive) (51.3.3)\n"
          ],
          "name": "stdout"
        }
      ]
    },
    {
      "cell_type": "code",
      "metadata": {
        "id": "C0p16Q1J7ZXy"
      },
      "source": [
        "import numpy as np\r\n",
        "import matplotlib.pyplot as plt\r\n",
        "import pandas as pd"
      ],
      "execution_count": null,
      "outputs": []
    },
    {
      "cell_type": "code",
      "metadata": {
        "id": "rn6CKtdL7iZm"
      },
      "source": [
        "dataset_train = pd.read_csv('dataset_daily_msft_training.csv')\r\n",
        "training_set = dataset_train.iloc[:, 1:2].values"
      ],
      "execution_count": null,
      "outputs": []
    },
    {
      "cell_type": "code",
      "metadata": {
        "colab": {
          "base_uri": "https://localhost:8080/",
          "height": 204
        },
        "id": "C2CbdGMj7mC5",
        "outputId": "960e824f-1395-4574-d7cc-274cd9a9567e"
      },
      "source": [
        "dataset_train.head()"
      ],
      "execution_count": null,
      "outputs": [
        {
          "output_type": "execute_result",
          "data": {
            "text/html": [
              "<div>\n",
              "<style scoped>\n",
              "    .dataframe tbody tr th:only-of-type {\n",
              "        vertical-align: middle;\n",
              "    }\n",
              "\n",
              "    .dataframe tbody tr th {\n",
              "        vertical-align: top;\n",
              "    }\n",
              "\n",
              "    .dataframe thead th {\n",
              "        text-align: right;\n",
              "    }\n",
              "</style>\n",
              "<table border=\"1\" class=\"dataframe\">\n",
              "  <thead>\n",
              "    <tr style=\"text-align: right;\">\n",
              "      <th></th>\n",
              "      <th>timestamp</th>\n",
              "      <th>open</th>\n",
              "      <th>high</th>\n",
              "      <th>low</th>\n",
              "      <th>close</th>\n",
              "      <th>volume</th>\n",
              "    </tr>\n",
              "  </thead>\n",
              "  <tbody>\n",
              "    <tr>\n",
              "      <th>0</th>\n",
              "      <td>2011-08-25</td>\n",
              "      <td>25.08</td>\n",
              "      <td>25.16</td>\n",
              "      <td>24.50</td>\n",
              "      <td>24.57</td>\n",
              "      <td>48192000</td>\n",
              "    </tr>\n",
              "    <tr>\n",
              "      <th>1</th>\n",
              "      <td>2011-08-24</td>\n",
              "      <td>24.65</td>\n",
              "      <td>24.93</td>\n",
              "      <td>24.42</td>\n",
              "      <td>24.90</td>\n",
              "      <td>45329700</td>\n",
              "    </tr>\n",
              "    <tr>\n",
              "      <th>2</th>\n",
              "      <td>2011-08-23</td>\n",
              "      <td>24.03</td>\n",
              "      <td>24.75</td>\n",
              "      <td>24.03</td>\n",
              "      <td>24.72</td>\n",
              "      <td>59670600</td>\n",
              "    </tr>\n",
              "    <tr>\n",
              "      <th>3</th>\n",
              "      <td>2011-08-22</td>\n",
              "      <td>24.42</td>\n",
              "      <td>24.49</td>\n",
              "      <td>23.79</td>\n",
              "      <td>23.98</td>\n",
              "      <td>54721000</td>\n",
              "    </tr>\n",
              "    <tr>\n",
              "      <th>4</th>\n",
              "      <td>2011-08-19</td>\n",
              "      <td>24.41</td>\n",
              "      <td>24.62</td>\n",
              "      <td>23.91</td>\n",
              "      <td>24.05</td>\n",
              "      <td>77397900</td>\n",
              "    </tr>\n",
              "  </tbody>\n",
              "</table>\n",
              "</div>"
            ],
            "text/plain": [
              "    timestamp   open   high    low  close    volume\n",
              "0  2011-08-25  25.08  25.16  24.50  24.57  48192000\n",
              "1  2011-08-24  24.65  24.93  24.42  24.90  45329700\n",
              "2  2011-08-23  24.03  24.75  24.03  24.72  59670600\n",
              "3  2011-08-22  24.42  24.49  23.79  23.98  54721000\n",
              "4  2011-08-19  24.41  24.62  23.91  24.05  77397900"
            ]
          },
          "metadata": {
            "tags": []
          },
          "execution_count": 20
        }
      ]
    },
    {
      "cell_type": "code",
      "metadata": {
        "id": "GiDLKVeF73kJ"
      },
      "source": [
        "from sklearn.preprocessing import MinMaxScaler\r\n",
        "sc = MinMaxScaler(feature_range = (0, 1))\r\n",
        "training_set_scaled = sc.fit_transform(training_set)"
      ],
      "execution_count": null,
      "outputs": []
    },
    {
      "cell_type": "code",
      "metadata": {
        "colab": {
          "base_uri": "https://localhost:8080/"
        },
        "id": "SGDT9KQbMGSL",
        "outputId": "ce0a8b01-f0d6-4527-d594-ce70c4b1cce6"
      },
      "source": [
        "training_set_scaled.shape"
      ],
      "execution_count": null,
      "outputs": [
        {
          "output_type": "execute_result",
          "data": {
            "text/plain": [
              "(3435, 1)"
            ]
          },
          "metadata": {
            "tags": []
          },
          "execution_count": 22
        }
      ]
    },
    {
      "cell_type": "code",
      "metadata": {
        "id": "W5a39bS87_Cx"
      },
      "source": [
        "X_train = []\r\n",
        "y_train = []\r\n",
        "\r\n",
        "for i in range(60, 3435):\r\n",
        "    X_train.append(training_set_scaled[i-60:i, 0])\r\n",
        "    y_train.append(training_set_scaled[i, 0])\r\n",
        "    \r\n",
        "X_train, y_train = np.array(X_train), np.array(y_train)\r\n",
        "\r\n",
        "X_train = np.reshape(X_train, (X_train.shape[0], X_train.shape[1], 1))"
      ],
      "execution_count": null,
      "outputs": []
    },
    {
      "cell_type": "code",
      "metadata": {
        "id": "Tny3cPG98HQu"
      },
      "source": [
        "from keras.models import Sequential\r\n",
        "from keras.layers import Dense\r\n",
        "from keras.layers import LSTM\r\n",
        "from keras.layers import Dropout"
      ],
      "execution_count": null,
      "outputs": []
    },
    {
      "cell_type": "code",
      "metadata": {
        "id": "n0LxXdRO8SWo"
      },
      "source": [
        "regressor = Sequential()\r\n",
        "\r\n",
        "regressor.add(LSTM(units = 50, return_sequences = True, input_shape = (X_train.shape[1], 1)))\r\n",
        "regressor.add(Dropout(0.2))\r\n",
        "\r\n",
        "regressor.add(LSTM(units = 50, return_sequences = True))\r\n",
        "regressor.add(Dropout(0.2))\r\n",
        "\r\n",
        "regressor.add(LSTM(units = 50, return_sequences = True))\r\n",
        "regressor.add(Dropout(0.2))\r\n",
        "\r\n",
        "regressor.add(LSTM(units = 50))\r\n",
        "regressor.add(Dropout(0.2))\r\n",
        "\r\n",
        "regressor.add(Dense(units = 1))"
      ],
      "execution_count": null,
      "outputs": []
    },
    {
      "cell_type": "code",
      "metadata": {
        "id": "K3WKtqy18rUn"
      },
      "source": [
        "regressor.compile(optimizer = 'adam', loss = 'mean_squared_error')"
      ],
      "execution_count": null,
      "outputs": []
    },
    {
      "cell_type": "code",
      "metadata": {
        "colab": {
          "base_uri": "https://localhost:8080/"
        },
        "id": "NMacEztt8tQG",
        "outputId": "2600ea8d-cd81-4753-aec2-be35e074fc86"
      },
      "source": [
        "regressor.summary()"
      ],
      "execution_count": null,
      "outputs": [
        {
          "output_type": "stream",
          "text": [
            "Model: \"sequential_1\"\n",
            "_________________________________________________________________\n",
            "Layer (type)                 Output Shape              Param #   \n",
            "=================================================================\n",
            "lstm_4 (LSTM)                (None, 60, 50)            10400     \n",
            "_________________________________________________________________\n",
            "dropout_4 (Dropout)          (None, 60, 50)            0         \n",
            "_________________________________________________________________\n",
            "lstm_5 (LSTM)                (None, 60, 50)            20200     \n",
            "_________________________________________________________________\n",
            "dropout_5 (Dropout)          (None, 60, 50)            0         \n",
            "_________________________________________________________________\n",
            "lstm_6 (LSTM)                (None, 60, 50)            20200     \n",
            "_________________________________________________________________\n",
            "dropout_6 (Dropout)          (None, 60, 50)            0         \n",
            "_________________________________________________________________\n",
            "lstm_7 (LSTM)                (None, 50)                20200     \n",
            "_________________________________________________________________\n",
            "dropout_7 (Dropout)          (None, 50)                0         \n",
            "_________________________________________________________________\n",
            "dense_1 (Dense)              (None, 1)                 51        \n",
            "=================================================================\n",
            "Total params: 71,051\n",
            "Trainable params: 71,051\n",
            "Non-trainable params: 0\n",
            "_________________________________________________________________\n"
          ],
          "name": "stdout"
        }
      ]
    },
    {
      "cell_type": "code",
      "metadata": {
        "colab": {
          "base_uri": "https://localhost:8080/"
        },
        "id": "D1WzQ8PR82n_",
        "outputId": "0c16c575-3c11-4fb4-a2c9-47b2bc7239e6"
      },
      "source": [
        "regressor.fit(X_train, y_train, epochs = 100, batch_size = 32)"
      ],
      "execution_count": null,
      "outputs": [
        {
          "output_type": "stream",
          "text": [
            "Epoch 1/100\n",
            "106/106 [==============================] - 18s 112ms/step - loss: 0.0122\n",
            "Epoch 2/100\n",
            "106/106 [==============================] - 12s 116ms/step - loss: 0.0035\n",
            "Epoch 3/100\n",
            "106/106 [==============================] - 13s 118ms/step - loss: 0.0030\n",
            "Epoch 4/100\n",
            "106/106 [==============================] - 12s 117ms/step - loss: 0.0026\n",
            "Epoch 5/100\n",
            "106/106 [==============================] - 12s 118ms/step - loss: 0.0021\n",
            "Epoch 6/100\n",
            "106/106 [==============================] - 13s 121ms/step - loss: 0.0016\n",
            "Epoch 7/100\n",
            "106/106 [==============================] - 12s 118ms/step - loss: 0.0015\n",
            "Epoch 8/100\n",
            "106/106 [==============================] - 12s 116ms/step - loss: 0.0018\n",
            "Epoch 9/100\n",
            "106/106 [==============================] - 13s 118ms/step - loss: 0.0015\n",
            "Epoch 10/100\n",
            "106/106 [==============================] - 13s 118ms/step - loss: 0.0015\n",
            "Epoch 11/100\n",
            "106/106 [==============================] - 12s 117ms/step - loss: 0.0016\n",
            "Epoch 12/100\n",
            "106/106 [==============================] - 12s 116ms/step - loss: 0.0012\n",
            "Epoch 13/100\n",
            "106/106 [==============================] - 12s 117ms/step - loss: 0.0014\n",
            "Epoch 14/100\n",
            "106/106 [==============================] - 12s 118ms/step - loss: 0.0012\n",
            "Epoch 15/100\n",
            "106/106 [==============================] - 13s 118ms/step - loss: 0.0013\n",
            "Epoch 16/100\n",
            "106/106 [==============================] - 13s 119ms/step - loss: 0.0010\n",
            "Epoch 17/100\n",
            "106/106 [==============================] - 12s 117ms/step - loss: 0.0015\n",
            "Epoch 18/100\n",
            "106/106 [==============================] - 12s 117ms/step - loss: 0.0011\n",
            "Epoch 19/100\n",
            "106/106 [==============================] - 12s 117ms/step - loss: 9.3455e-04\n",
            "Epoch 20/100\n",
            "106/106 [==============================] - 13s 118ms/step - loss: 8.2635e-04\n",
            "Epoch 21/100\n",
            "106/106 [==============================] - 12s 117ms/step - loss: 8.4156e-04\n",
            "Epoch 22/100\n",
            "106/106 [==============================] - 12s 118ms/step - loss: 0.0010\n",
            "Epoch 23/100\n",
            "106/106 [==============================] - 13s 119ms/step - loss: 7.0738e-04\n",
            "Epoch 24/100\n",
            "106/106 [==============================] - 13s 119ms/step - loss: 9.3957e-04\n",
            "Epoch 25/100\n",
            "106/106 [==============================] - 13s 118ms/step - loss: 8.6094e-04\n",
            "Epoch 26/100\n",
            "106/106 [==============================] - 12s 118ms/step - loss: 8.6096e-04\n",
            "Epoch 27/100\n",
            "106/106 [==============================] - 12s 117ms/step - loss: 7.4966e-04\n",
            "Epoch 28/100\n",
            "106/106 [==============================] - 12s 117ms/step - loss: 0.0011\n",
            "Epoch 29/100\n",
            "106/106 [==============================] - 13s 118ms/step - loss: 6.9105e-04\n",
            "Epoch 30/100\n",
            "106/106 [==============================] - 13s 119ms/step - loss: 6.5591e-04\n",
            "Epoch 31/100\n",
            "106/106 [==============================] - 13s 120ms/step - loss: 7.5514e-04\n",
            "Epoch 32/100\n",
            "106/106 [==============================] - 12s 117ms/step - loss: 8.4528e-04\n",
            "Epoch 33/100\n",
            "106/106 [==============================] - 12s 117ms/step - loss: 6.8413e-04\n",
            "Epoch 34/100\n",
            "106/106 [==============================] - 12s 118ms/step - loss: 7.2352e-04\n",
            "Epoch 35/100\n",
            "106/106 [==============================] - 12s 118ms/step - loss: 8.3538e-04\n",
            "Epoch 36/100\n",
            "106/106 [==============================] - 12s 118ms/step - loss: 8.1872e-04\n",
            "Epoch 37/100\n",
            "106/106 [==============================] - 13s 118ms/step - loss: 7.6784e-04\n",
            "Epoch 38/100\n",
            "106/106 [==============================] - 12s 117ms/step - loss: 9.5790e-04\n",
            "Epoch 39/100\n",
            "106/106 [==============================] - 13s 118ms/step - loss: 0.0011\n",
            "Epoch 40/100\n",
            "106/106 [==============================] - 13s 118ms/step - loss: 7.4270e-04\n",
            "Epoch 41/100\n",
            "106/106 [==============================] - 13s 120ms/step - loss: 7.7394e-04\n",
            "Epoch 42/100\n",
            "106/106 [==============================] - 13s 118ms/step - loss: 8.0562e-04\n",
            "Epoch 43/100\n",
            "106/106 [==============================] - 12s 118ms/step - loss: 7.5678e-04\n",
            "Epoch 44/100\n",
            "106/106 [==============================] - 12s 117ms/step - loss: 7.0872e-04\n",
            "Epoch 45/100\n",
            "106/106 [==============================] - 12s 117ms/step - loss: 7.1785e-04\n",
            "Epoch 46/100\n",
            "106/106 [==============================] - 12s 117ms/step - loss: 7.5769e-04\n",
            "Epoch 47/100\n",
            "106/106 [==============================] - 12s 118ms/step - loss: 7.0148e-04\n",
            "Epoch 48/100\n",
            "106/106 [==============================] - 13s 119ms/step - loss: 6.0849e-04\n",
            "Epoch 49/100\n",
            "106/106 [==============================] - 12s 118ms/step - loss: 7.0186e-04\n",
            "Epoch 50/100\n",
            "106/106 [==============================] - 12s 118ms/step - loss: 7.8557e-04\n",
            "Epoch 51/100\n",
            "106/106 [==============================] - 12s 118ms/step - loss: 6.5702e-04\n",
            "Epoch 52/100\n",
            "106/106 [==============================] - 12s 118ms/step - loss: 5.2514e-04\n",
            "Epoch 53/100\n",
            "106/106 [==============================] - 12s 118ms/step - loss: 9.3854e-04\n",
            "Epoch 54/100\n",
            "106/106 [==============================] - 13s 118ms/step - loss: 5.9019e-04\n",
            "Epoch 55/100\n",
            "106/106 [==============================] - 13s 121ms/step - loss: 6.6319e-04\n",
            "Epoch 56/100\n",
            "106/106 [==============================] - 13s 118ms/step - loss: 7.2095e-04\n",
            "Epoch 57/100\n",
            "106/106 [==============================] - 12s 117ms/step - loss: 5.7761e-04\n",
            "Epoch 58/100\n",
            "106/106 [==============================] - 12s 118ms/step - loss: 8.9368e-04\n",
            "Epoch 59/100\n",
            "106/106 [==============================] - 12s 118ms/step - loss: 8.0440e-04\n",
            "Epoch 60/100\n",
            "106/106 [==============================] - 12s 118ms/step - loss: 6.6535e-04\n",
            "Epoch 61/100\n",
            "106/106 [==============================] - 12s 118ms/step - loss: 6.5222e-04\n",
            "Epoch 62/100\n",
            "106/106 [==============================] - 12s 118ms/step - loss: 5.7454e-04\n",
            "Epoch 63/100\n",
            "106/106 [==============================] - 12s 118ms/step - loss: 6.0864e-04\n",
            "Epoch 64/100\n",
            "106/106 [==============================] - 12s 117ms/step - loss: 7.3038e-04\n",
            "Epoch 65/100\n",
            "106/106 [==============================] - 13s 118ms/step - loss: 7.2761e-04\n",
            "Epoch 66/100\n",
            "106/106 [==============================] - 13s 119ms/step - loss: 8.0516e-04\n",
            "Epoch 67/100\n",
            "106/106 [==============================] - 13s 119ms/step - loss: 4.8461e-04\n",
            "Epoch 68/100\n",
            "106/106 [==============================] - 13s 118ms/step - loss: 9.0009e-04\n",
            "Epoch 69/100\n",
            "106/106 [==============================] - 12s 118ms/step - loss: 8.0390e-04\n",
            "Epoch 70/100\n",
            "106/106 [==============================] - 12s 117ms/step - loss: 5.0951e-04\n",
            "Epoch 71/100\n",
            "106/106 [==============================] - 12s 118ms/step - loss: 7.3513e-04\n",
            "Epoch 72/100\n",
            "106/106 [==============================] - 12s 118ms/step - loss: 6.4862e-04\n",
            "Epoch 73/100\n",
            "106/106 [==============================] - 13s 118ms/step - loss: 6.4561e-04\n",
            "Epoch 74/100\n",
            "106/106 [==============================] - 12s 117ms/step - loss: 5.8062e-04\n",
            "Epoch 75/100\n",
            "106/106 [==============================] - 12s 116ms/step - loss: 9.0719e-04\n",
            "Epoch 76/100\n",
            "106/106 [==============================] - 12s 117ms/step - loss: 5.4214e-04\n",
            "Epoch 77/100\n",
            "106/106 [==============================] - 12s 118ms/step - loss: 7.2602e-04\n",
            "Epoch 78/100\n",
            "106/106 [==============================] - 12s 118ms/step - loss: 7.1135e-04\n",
            "Epoch 79/100\n",
            "106/106 [==============================] - 12s 117ms/step - loss: 5.7946e-04\n",
            "Epoch 80/100\n",
            "106/106 [==============================] - 13s 119ms/step - loss: 6.1480e-04\n",
            "Epoch 81/100\n",
            "106/106 [==============================] - 12s 117ms/step - loss: 8.0408e-04\n",
            "Epoch 82/100\n",
            "106/106 [==============================] - 13s 118ms/step - loss: 5.6054e-04\n",
            "Epoch 83/100\n",
            "106/106 [==============================] - 13s 118ms/step - loss: 5.5023e-04\n",
            "Epoch 84/100\n",
            "106/106 [==============================] - 12s 117ms/step - loss: 5.8889e-04\n",
            "Epoch 85/100\n",
            "106/106 [==============================] - 13s 119ms/step - loss: 7.8505e-04\n",
            "Epoch 86/100\n",
            "106/106 [==============================] - 13s 118ms/step - loss: 5.9970e-04\n",
            "Epoch 87/100\n",
            "106/106 [==============================] - 12s 117ms/step - loss: 6.3933e-04\n",
            "Epoch 88/100\n",
            "106/106 [==============================] - 13s 118ms/step - loss: 7.4827e-04\n",
            "Epoch 89/100\n",
            "106/106 [==============================] - 13s 118ms/step - loss: 7.0296e-04\n",
            "Epoch 90/100\n",
            "106/106 [==============================] - 12s 118ms/step - loss: 5.1850e-04\n",
            "Epoch 91/100\n",
            "106/106 [==============================] - 13s 120ms/step - loss: 5.6370e-04\n",
            "Epoch 92/100\n",
            "106/106 [==============================] - 13s 120ms/step - loss: 7.0340e-04\n",
            "Epoch 93/100\n",
            "106/106 [==============================] - 13s 118ms/step - loss: 5.1967e-04\n",
            "Epoch 94/100\n",
            "106/106 [==============================] - 13s 119ms/step - loss: 8.1634e-04\n",
            "Epoch 95/100\n",
            "106/106 [==============================] - 13s 118ms/step - loss: 5.7683e-04\n",
            "Epoch 96/100\n",
            "106/106 [==============================] - 12s 118ms/step - loss: 4.8289e-04\n",
            "Epoch 97/100\n",
            "106/106 [==============================] - 13s 119ms/step - loss: 5.2279e-04\n",
            "Epoch 98/100\n",
            "106/106 [==============================] - 13s 118ms/step - loss: 5.9973e-04\n",
            "Epoch 99/100\n",
            "106/106 [==============================] - 13s 119ms/step - loss: 6.1687e-04\n",
            "Epoch 100/100\n",
            "106/106 [==============================] - 12s 118ms/step - loss: 5.5242e-04\n"
          ],
          "name": "stdout"
        },
        {
          "output_type": "execute_result",
          "data": {
            "text/plain": [
              "<tensorflow.python.keras.callbacks.History at 0x7fb9e5380470>"
            ]
          },
          "metadata": {
            "tags": []
          },
          "execution_count": 28
        }
      ]
    },
    {
      "cell_type": "code",
      "metadata": {
        "id": "DSoNMKqQ_NnN"
      },
      "source": [
        "#getting test data\r\n",
        "\r\n",
        "file_id = '10oiV6jvHGtiXgDDJmMByxBhiyYKjaQCw'\r\n",
        "downloaded = drive.CreateFile({'id': file_id})\r\n",
        "downloaded.GetContentFile('dataset_daily_msft_test.csv')"
      ],
      "execution_count": null,
      "outputs": []
    },
    {
      "cell_type": "code",
      "metadata": {
        "id": "1SsxQ2S3_uk3"
      },
      "source": [
        "dataset_test = pd.read_csv('dataset_daily_msft_test.csv')\r\n",
        "real_stock_price = dataset_test.iloc[:, 1:2].values"
      ],
      "execution_count": null,
      "outputs": []
    },
    {
      "cell_type": "code",
      "metadata": {
        "colab": {
          "base_uri": "https://localhost:8080/"
        },
        "id": "2MK0X_eSRm_4",
        "outputId": "68cf1b1d-18ef-4850-af7a-9ef0761fa114"
      },
      "source": [
        "dataset_test.shape"
      ],
      "execution_count": null,
      "outputs": [
        {
          "output_type": "execute_result",
          "data": {
            "text/plain": [
              "(1849, 6)"
            ]
          },
          "metadata": {
            "tags": []
          },
          "execution_count": 31
        }
      ]
    },
    {
      "cell_type": "code",
      "metadata": {
        "colab": {
          "base_uri": "https://localhost:8080/",
          "height": 204
        },
        "id": "NYe7b15JR9WX",
        "outputId": "497916a8-d8e1-4549-e153-0d1f8cbdad8a"
      },
      "source": [
        "dataset_test.head()"
      ],
      "execution_count": null,
      "outputs": [
        {
          "output_type": "execute_result",
          "data": {
            "text/html": [
              "<div>\n",
              "<style scoped>\n",
              "    .dataframe tbody tr th:only-of-type {\n",
              "        vertical-align: middle;\n",
              "    }\n",
              "\n",
              "    .dataframe tbody tr th {\n",
              "        vertical-align: top;\n",
              "    }\n",
              "\n",
              "    .dataframe thead th {\n",
              "        text-align: right;\n",
              "    }\n",
              "</style>\n",
              "<table border=\"1\" class=\"dataframe\">\n",
              "  <thead>\n",
              "    <tr style=\"text-align: right;\">\n",
              "      <th></th>\n",
              "      <th>timestamp</th>\n",
              "      <th>open</th>\n",
              "      <th>high</th>\n",
              "      <th>low</th>\n",
              "      <th>close</th>\n",
              "      <th>volume</th>\n",
              "    </tr>\n",
              "  </thead>\n",
              "  <tbody>\n",
              "    <tr>\n",
              "      <th>0</th>\n",
              "      <td>2019-01-02</td>\n",
              "      <td>99.55</td>\n",
              "      <td>101.75</td>\n",
              "      <td>98.94</td>\n",
              "      <td>101.12</td>\n",
              "      <td>35329345</td>\n",
              "    </tr>\n",
              "    <tr>\n",
              "      <th>1</th>\n",
              "      <td>2018-12-31</td>\n",
              "      <td>101.29</td>\n",
              "      <td>102.40</td>\n",
              "      <td>100.44</td>\n",
              "      <td>101.57</td>\n",
              "      <td>33173765</td>\n",
              "    </tr>\n",
              "    <tr>\n",
              "      <th>2</th>\n",
              "      <td>2018-12-28</td>\n",
              "      <td>102.09</td>\n",
              "      <td>102.41</td>\n",
              "      <td>99.52</td>\n",
              "      <td>100.39</td>\n",
              "      <td>38169312</td>\n",
              "    </tr>\n",
              "    <tr>\n",
              "      <th>3</th>\n",
              "      <td>2018-12-27</td>\n",
              "      <td>99.30</td>\n",
              "      <td>101.19</td>\n",
              "      <td>96.40</td>\n",
              "      <td>101.18</td>\n",
              "      <td>49498509</td>\n",
              "    </tr>\n",
              "    <tr>\n",
              "      <th>4</th>\n",
              "      <td>2018-12-26</td>\n",
              "      <td>95.14</td>\n",
              "      <td>100.69</td>\n",
              "      <td>93.96</td>\n",
              "      <td>100.56</td>\n",
              "      <td>51634793</td>\n",
              "    </tr>\n",
              "  </tbody>\n",
              "</table>\n",
              "</div>"
            ],
            "text/plain": [
              "    timestamp    open    high     low   close    volume\n",
              "0  2019-01-02   99.55  101.75   98.94  101.12  35329345\n",
              "1  2018-12-31  101.29  102.40  100.44  101.57  33173765\n",
              "2  2018-12-28  102.09  102.41   99.52  100.39  38169312\n",
              "3  2018-12-27   99.30  101.19   96.40  101.18  49498509\n",
              "4  2018-12-26   95.14  100.69   93.96  100.56  51634793"
            ]
          },
          "metadata": {
            "tags": []
          },
          "execution_count": 32
        }
      ]
    },
    {
      "cell_type": "code",
      "metadata": {
        "id": "3I08xqYc_yOr"
      },
      "source": [
        "dataset_total = pd.concat((dataset_train['open'], dataset_test['open']), axis = 0)\r\n",
        "\r\n",
        "inputs = dataset_total[len(dataset_total) - len(dataset_test) - 60:].values\r\n",
        "inputs = inputs.reshape(-1,1)\r\n",
        "inputs = sc.transform(inputs)\r\n",
        "\r\n",
        "X_test = []\r\n",
        "\r\n",
        "for i in range(60, 1909): # 1909 is dataset_test x shape + 60, this 60 is days to look back\r\n",
        "    X_test.append(inputs[i-60:i, 0])\r\n",
        "\r\n",
        "X_test = np.array(X_test)\r\n",
        "X_test = np.reshape(X_test, (X_test.shape[0], X_test.shape[1], 1))\r\n",
        "\r\n",
        "predicted_stock_price = regressor.predict(X_test)\r\n",
        "predicted_stock_price = sc.inverse_transform(predicted_stock_price)"
      ],
      "execution_count": null,
      "outputs": []
    },
    {
      "cell_type": "code",
      "metadata": {
        "colab": {
          "base_uri": "https://localhost:8080/"
        },
        "id": "mjxLpOq8O0Uo",
        "outputId": "5fc89a13-d670-436a-ee39-83b61fac5623"
      },
      "source": [
        "# Calculate RMSE performance metrics\r\n",
        "import math\r\n",
        "from sklearn.metrics import mean_squared_error\r\n",
        "math.sqrt(mean_squared_error(real_stock_price, predicted_stock_price))"
      ],
      "execution_count": null,
      "outputs": [
        {
          "output_type": "execute_result",
          "data": {
            "text/plain": [
              "1.5996510545553395"
            ]
          },
          "metadata": {
            "tags": []
          },
          "execution_count": 34
        }
      ]
    },
    {
      "cell_type": "code",
      "metadata": {
        "id": "jnQERJiYVBVJ"
      },
      "source": [
        "plt.rcParams['figure.figsize'] = (25,15)"
      ],
      "execution_count": null,
      "outputs": []
    },
    {
      "cell_type": "code",
      "metadata": {
        "colab": {
          "base_uri": "https://localhost:8080/",
          "height": 716
        },
        "id": "2YJ9dxtCRUZw",
        "outputId": "3f2c42b0-62fd-4635-8c1d-41c748c6a573"
      },
      "source": [
        "plt.plot(real_stock_price, color = 'black', label = 'MSFT Stock Price')\r\n",
        "plt.plot(predicted_stock_price, color = 'orange', label = 'Predicted MSFT Stock Price', linestyle = 'solid')\r\n",
        "plt.title('MSFT Stock Price Prediction')\r\n",
        "plt.xlabel('Time')\r\n",
        "plt.ylabel('MSFT Stock Price')\r\n",
        "plt.legend()\r\n",
        "plt.show()"
      ],
      "execution_count": null,
      "outputs": [
        {
          "output_type": "display_data",
          "data": {
            "image/png": "[encoded data removed]",
            "text/plain": [
              "<Figure size 1800x1080 with 1 Axes>"
            ]
          },
          "metadata": {
            "tags": [],
            "needs_background": "light"
          }
        }
      ]
    }
  ]
}