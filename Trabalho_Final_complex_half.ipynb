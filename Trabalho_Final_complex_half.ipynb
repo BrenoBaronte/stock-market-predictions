{
  "nbformat": 4,
  "nbformat_minor": 0,
  "metadata": {
    "colab": {
      "name": "Trabalho Final - complex half.ipynb",
      "provenance": [],
      "authorship_tag": "ABX9TyM1/e3QQKnvJ4YI/Wb6znfc",
      "include_colab_link": true
    },
    "kernelspec": {
      "name": "python3",
      "display_name": "Python 3"
    }
  },
  "cells": [
    {
      "cell_type": "markdown",
      "metadata": {
        "id": "view-in-github",
        "colab_type": "text"
      },
      "source": [
        "<a href=\"https://colab.research.google.com/github/BrenoBaronte/stock-market-predictions/blob/main/Trabalho_Final_complex_half.ipynb\" target=\"_parent\"><img src=\"https://colab.research.google.com/assets/colab-badge.svg\" alt=\"Open In Colab\"/></a>"
      ]
    },
    {
      "cell_type": "code",
      "metadata": {
        "colab": {
          "base_uri": "https://localhost:8080/"
        },
        "id": "Wz4H3_Ig1nWv",
        "outputId": "cf310c16-4ad3-4643-9af8-59384be6b260"
      },
      "source": [
        "# Step 0 - importing the dataset file\r\n",
        "!pip install pydrive\r\n",
        "from pydrive.auth import GoogleAuth\r\n",
        "from pydrive.drive import GoogleDrive\r\n",
        "from google.colab import auth\r\n",
        "from oauth2client.client import GoogleCredentials\r\n",
        "\r\n",
        "auth.authenticate_user()\r\n",
        "gauth = GoogleAuth()\r\n",
        "gauth.credentials = GoogleCredentials.get_application_default()\r\n",
        "drive = GoogleDrive(gauth)\r\n",
        "\r\n",
        "file_id = '1Z5uVzXZlomQ5Z-_q-X60upKSUpm724K7'\r\n",
        "downloaded = drive.CreateFile({'id': file_id})\r\n",
        "downloaded.GetContentFile('dataset_daily_msft_half_training.csv')"
      ],
      "execution_count": null,
      "outputs": [
        {
          "output_type": "stream",
          "text": [
            "Requirement already satisfied: pydrive in /usr/local/lib/python3.6/dist-packages (1.3.1)\n",
            "Requirement already satisfied: oauth2client>=4.0.0 in /usr/local/lib/python3.6/dist-packages (from pydrive) (4.1.3)\n",
            "Requirement already satisfied: PyYAML>=3.0 in /usr/local/lib/python3.6/dist-packages (from pydrive) (3.13)\n",
            "Requirement already satisfied: google-api-python-client>=1.2 in /usr/local/lib/python3.6/dist-packages (from pydrive) (1.7.12)\n",
            "Requirement already satisfied: pyasn1-modules>=0.0.5 in /usr/local/lib/python3.6/dist-packages (from oauth2client>=4.0.0->pydrive) (0.2.8)\n",
            "Requirement already satisfied: httplib2>=0.9.1 in /usr/local/lib/python3.6/dist-packages (from oauth2client>=4.0.0->pydrive) (0.17.4)\n",
            "Requirement already satisfied: rsa>=3.1.4 in /usr/local/lib/python3.6/dist-packages (from oauth2client>=4.0.0->pydrive) (4.6)\n",
            "Requirement already satisfied: six>=1.6.1 in /usr/local/lib/python3.6/dist-packages (from oauth2client>=4.0.0->pydrive) (1.15.0)\n",
            "Requirement already satisfied: pyasn1>=0.1.7 in /usr/local/lib/python3.6/dist-packages (from oauth2client>=4.0.0->pydrive) (0.4.8)\n",
            "Requirement already satisfied: uritemplate<4dev,>=3.0.0 in /usr/local/lib/python3.6/dist-packages (from google-api-python-client>=1.2->pydrive) (3.0.1)\n",
            "Requirement already satisfied: google-auth-httplib2>=0.0.3 in /usr/local/lib/python3.6/dist-packages (from google-api-python-client>=1.2->pydrive) (0.0.4)\n",
            "Requirement already satisfied: google-auth>=1.4.1 in /usr/local/lib/python3.6/dist-packages (from google-api-python-client>=1.2->pydrive) (1.17.2)\n",
            "Requirement already satisfied: setuptools>=40.3.0 in /usr/local/lib/python3.6/dist-packages (from google-auth>=1.4.1->google-api-python-client>=1.2->pydrive) (51.3.3)\n",
            "Requirement already satisfied: cachetools<5.0,>=2.0.0 in /usr/local/lib/python3.6/dist-packages (from google-auth>=1.4.1->google-api-python-client>=1.2->pydrive) (4.2.0)\n"
          ],
          "name": "stdout"
        }
      ]
    },
    {
      "cell_type": "code",
      "metadata": {
        "id": "C0p16Q1J7ZXy"
      },
      "source": [
        "import numpy as np\r\n",
        "import matplotlib.pyplot as plt\r\n",
        "import pandas as pd"
      ],
      "execution_count": null,
      "outputs": []
    },
    {
      "cell_type": "code",
      "metadata": {
        "id": "rn6CKtdL7iZm"
      },
      "source": [
        "dataset_train = pd.read_csv('dataset_daily_msft_half_training.csv')\r\n",
        "training_set = dataset_train.iloc[:, 1:2].values"
      ],
      "execution_count": null,
      "outputs": []
    },
    {
      "cell_type": "code",
      "metadata": {
        "colab": {
          "base_uri": "https://localhost:8080/",
          "height": 204
        },
        "id": "C2CbdGMj7mC5",
        "outputId": "39db3b8b-cdb5-40a9-a172-026c6bac8a8d"
      },
      "source": [
        "dataset_train.head()"
      ],
      "execution_count": null,
      "outputs": [
        {
          "output_type": "execute_result",
          "data": {
            "text/html": [
              "<div>\n",
              "<style scoped>\n",
              "    .dataframe tbody tr th:only-of-type {\n",
              "        vertical-align: middle;\n",
              "    }\n",
              "\n",
              "    .dataframe tbody tr th {\n",
              "        vertical-align: top;\n",
              "    }\n",
              "\n",
              "    .dataframe thead th {\n",
              "        text-align: right;\n",
              "    }\n",
              "</style>\n",
              "<table border=\"1\" class=\"dataframe\">\n",
              "  <thead>\n",
              "    <tr style=\"text-align: right;\">\n",
              "      <th></th>\n",
              "      <th>timestamp</th>\n",
              "      <th>open</th>\n",
              "      <th>high</th>\n",
              "      <th>low</th>\n",
              "      <th>close</th>\n",
              "      <th>volume</th>\n",
              "    </tr>\n",
              "  </thead>\n",
              "  <tbody>\n",
              "    <tr>\n",
              "      <th>0</th>\n",
              "      <td>2015-06-19</td>\n",
              "      <td>46.79</td>\n",
              "      <td>46.825</td>\n",
              "      <td>45.9900</td>\n",
              "      <td>46.100</td>\n",
              "      <td>63837036</td>\n",
              "    </tr>\n",
              "    <tr>\n",
              "      <th>1</th>\n",
              "      <td>2015-06-18</td>\n",
              "      <td>46.22</td>\n",
              "      <td>46.800</td>\n",
              "      <td>46.1700</td>\n",
              "      <td>46.720</td>\n",
              "      <td>32658343</td>\n",
              "    </tr>\n",
              "    <tr>\n",
              "      <th>2</th>\n",
              "      <td>2015-06-17</td>\n",
              "      <td>45.73</td>\n",
              "      <td>46.070</td>\n",
              "      <td>45.3600</td>\n",
              "      <td>45.970</td>\n",
              "      <td>28704061</td>\n",
              "    </tr>\n",
              "    <tr>\n",
              "      <th>3</th>\n",
              "      <td>2015-06-16</td>\n",
              "      <td>45.35</td>\n",
              "      <td>46.240</td>\n",
              "      <td>45.3000</td>\n",
              "      <td>45.830</td>\n",
              "      <td>27070306</td>\n",
              "    </tr>\n",
              "    <tr>\n",
              "      <th>4</th>\n",
              "      <td>2015-06-15</td>\n",
              "      <td>45.45</td>\n",
              "      <td>45.650</td>\n",
              "      <td>45.0201</td>\n",
              "      <td>45.475</td>\n",
              "      <td>33254517</td>\n",
              "    </tr>\n",
              "  </tbody>\n",
              "</table>\n",
              "</div>"
            ],
            "text/plain": [
              "    timestamp   open    high      low   close    volume\n",
              "0  2015-06-19  46.79  46.825  45.9900  46.100  63837036\n",
              "1  2015-06-18  46.22  46.800  46.1700  46.720  32658343\n",
              "2  2015-06-17  45.73  46.070  45.3600  45.970  28704061\n",
              "3  2015-06-16  45.35  46.240  45.3000  45.830  27070306\n",
              "4  2015-06-15  45.45  45.650  45.0201  45.475  33254517"
            ]
          },
          "metadata": {
            "tags": []
          },
          "execution_count": 38
        }
      ]
    },
    {
      "cell_type": "code",
      "metadata": {
        "id": "tplzSp9XdeNe",
        "colab": {
          "base_uri": "https://localhost:8080/"
        },
        "outputId": "e1d1c9ba-534a-418b-f706-fdaa95eca09b"
      },
      "source": [
        "training_set"
      ],
      "execution_count": null,
      "outputs": [
        {
          "output_type": "execute_result",
          "data": {
            "text/plain": [
              "array([[46.79 ],\n",
              "       [46.22 ],\n",
              "       [45.73 ],\n",
              "       ...,\n",
              "       [18.02 ],\n",
              "       [18.115],\n",
              "       [19.63 ]])"
            ]
          },
          "metadata": {
            "tags": []
          },
          "execution_count": 39
        }
      ]
    },
    {
      "cell_type": "code",
      "metadata": {
        "id": "GiDLKVeF73kJ"
      },
      "source": [
        "from sklearn.preprocessing import MinMaxScaler\r\n",
        "sc = MinMaxScaler(feature_range = (0, 1))\r\n",
        "training_set_scaled = sc.fit_transform(training_set)"
      ],
      "execution_count": null,
      "outputs": []
    },
    {
      "cell_type": "code",
      "metadata": {
        "colab": {
          "base_uri": "https://localhost:8080/"
        },
        "id": "SGDT9KQbMGSL",
        "outputId": "f09ebba9-25d2-48f5-ce3d-b4a0f33f49f9"
      },
      "source": [
        "last_training_index = training_set_scaled.shape[0]\r\n",
        "last_training_index"
      ],
      "execution_count": null,
      "outputs": [
        {
          "output_type": "execute_result",
          "data": {
            "text/plain": [
              "1656"
            ]
          },
          "metadata": {
            "tags": []
          },
          "execution_count": 8
        }
      ]
    },
    {
      "cell_type": "code",
      "metadata": {
        "id": "W5a39bS87_Cx"
      },
      "source": [
        "X_train = []\r\n",
        "y_train = []\r\n",
        "\r\n",
        "daysToLookBack = 60\r\n",
        "\r\n",
        "for i in range(daysToLookBack, last_training_index):\r\n",
        "    X_train.append(training_set_scaled[i-daysToLookBack:i, 0])\r\n",
        "    y_train.append(training_set_scaled[i, 0])\r\n",
        "X_train, y_train = np.array(X_train), np.array(y_train)\r\n",
        "\r\n",
        "X_train = np.reshape(X_train, (X_train.shape[0], X_train.shape[1], 1))"
      ],
      "execution_count": null,
      "outputs": []
    },
    {
      "cell_type": "code",
      "metadata": {
        "id": "Tny3cPG98HQu"
      },
      "source": [
        "from keras.models import Sequential\r\n",
        "from keras.layers import Dense\r\n",
        "from keras.layers import LSTM\r\n",
        "from keras.layers import Dropout"
      ],
      "execution_count": null,
      "outputs": []
    },
    {
      "cell_type": "code",
      "metadata": {
        "id": "n0LxXdRO8SWo"
      },
      "source": [
        "regressor = Sequential()\r\n",
        "\r\n",
        "regressor.add(LSTM(units = 50, return_sequences = True, input_shape = (X_train.shape[1], 1)))\r\n",
        "regressor.add(Dropout(0.2))\r\n",
        "\r\n",
        "regressor.add(LSTM(units = 50, return_sequences = True))\r\n",
        "regressor.add(Dropout(0.2))\r\n",
        "\r\n",
        "regressor.add(LSTM(units = 50, return_sequences = True))\r\n",
        "regressor.add(Dropout(0.2))\r\n",
        "\r\n",
        "regressor.add(LSTM(units = 50))\r\n",
        "regressor.add(Dropout(0.2))\r\n",
        "\r\n",
        "regressor.add(Dense(units = 1))"
      ],
      "execution_count": null,
      "outputs": []
    },
    {
      "cell_type": "code",
      "metadata": {
        "id": "K3WKtqy18rUn"
      },
      "source": [
        "regressor.compile(optimizer = 'adam', loss = 'mean_squared_error')"
      ],
      "execution_count": null,
      "outputs": []
    },
    {
      "cell_type": "code",
      "metadata": {
        "colab": {
          "base_uri": "https://localhost:8080/"
        },
        "id": "NMacEztt8tQG",
        "outputId": "ec9f2390-1065-4ac8-db6b-cb22718159ac"
      },
      "source": [
        "regressor.summary()"
      ],
      "execution_count": null,
      "outputs": [
        {
          "output_type": "stream",
          "text": [
            "Model: \"sequential\"\n",
            "_________________________________________________________________\n",
            "Layer (type)                 Output Shape              Param #   \n",
            "=================================================================\n",
            "lstm (LSTM)                  (None, 60, 50)            10400     \n",
            "_________________________________________________________________\n",
            "dropout (Dropout)            (None, 60, 50)            0         \n",
            "_________________________________________________________________\n",
            "lstm_1 (LSTM)                (None, 60, 50)            20200     \n",
            "_________________________________________________________________\n",
            "dropout_1 (Dropout)          (None, 60, 50)            0         \n",
            "_________________________________________________________________\n",
            "lstm_2 (LSTM)                (None, 60, 50)            20200     \n",
            "_________________________________________________________________\n",
            "dropout_2 (Dropout)          (None, 60, 50)            0         \n",
            "_________________________________________________________________\n",
            "lstm_3 (LSTM)                (None, 50)                20200     \n",
            "_________________________________________________________________\n",
            "dropout_3 (Dropout)          (None, 50)                0         \n",
            "_________________________________________________________________\n",
            "dense (Dense)                (None, 1)                 51        \n",
            "=================================================================\n",
            "Total params: 71,051\n",
            "Trainable params: 71,051\n",
            "Non-trainable params: 0\n",
            "_________________________________________________________________\n"
          ],
          "name": "stdout"
        }
      ]
    },
    {
      "cell_type": "code",
      "metadata": {
        "colab": {
          "base_uri": "https://localhost:8080/"
        },
        "id": "D1WzQ8PR82n_",
        "outputId": "091268ac-3102-47f7-8c37-1134e257293d"
      },
      "source": [
        "regressor.fit(X_train, y_train, epochs = 100, batch_size = 32)"
      ],
      "execution_count": null,
      "outputs": [
        {
          "output_type": "stream",
          "text": [
            "Epoch 1/100\n",
            "50/50 [==============================] - 12s 114ms/step - loss: 0.0587\n",
            "Epoch 2/100\n",
            "50/50 [==============================] - 6s 114ms/step - loss: 0.0044\n",
            "Epoch 3/100\n",
            "50/50 [==============================] - 6s 112ms/step - loss: 0.0044\n",
            "Epoch 4/100\n",
            "50/50 [==============================] - 6s 112ms/step - loss: 0.0039\n",
            "Epoch 5/100\n",
            "50/50 [==============================] - 6s 114ms/step - loss: 0.0035\n",
            "Epoch 6/100\n",
            "50/50 [==============================] - 6s 112ms/step - loss: 0.0030\n",
            "Epoch 7/100\n",
            "50/50 [==============================] - 6s 111ms/step - loss: 0.0033\n",
            "Epoch 8/100\n",
            "50/50 [==============================] - 6s 113ms/step - loss: 0.0032\n",
            "Epoch 9/100\n",
            "50/50 [==============================] - 6s 113ms/step - loss: 0.0032\n",
            "Epoch 10/100\n",
            "50/50 [==============================] - 6s 113ms/step - loss: 0.0029\n",
            "Epoch 11/100\n",
            "50/50 [==============================] - 6s 114ms/step - loss: 0.0028\n",
            "Epoch 12/100\n",
            "50/50 [==============================] - 6s 117ms/step - loss: 0.0032\n",
            "Epoch 13/100\n",
            "50/50 [==============================] - 6s 116ms/step - loss: 0.0032\n",
            "Epoch 14/100\n",
            "50/50 [==============================] - 6s 115ms/step - loss: 0.0024\n",
            "Epoch 15/100\n",
            "50/50 [==============================] - 6s 115ms/step - loss: 0.0025\n",
            "Epoch 16/100\n",
            "50/50 [==============================] - 6s 118ms/step - loss: 0.0028\n",
            "Epoch 17/100\n",
            "50/50 [==============================] - 6s 118ms/step - loss: 0.0025\n",
            "Epoch 18/100\n",
            "50/50 [==============================] - 6s 119ms/step - loss: 0.0022\n",
            "Epoch 19/100\n",
            "50/50 [==============================] - 6s 118ms/step - loss: 0.0025\n",
            "Epoch 20/100\n",
            "50/50 [==============================] - 6s 119ms/step - loss: 0.0023\n",
            "Epoch 21/100\n",
            "50/50 [==============================] - 6s 117ms/step - loss: 0.0024\n",
            "Epoch 22/100\n",
            "50/50 [==============================] - 6s 116ms/step - loss: 0.0025\n",
            "Epoch 23/100\n",
            "50/50 [==============================] - 6s 119ms/step - loss: 0.0025\n",
            "Epoch 24/100\n",
            "50/50 [==============================] - 6s 118ms/step - loss: 0.0020\n",
            "Epoch 25/100\n",
            "50/50 [==============================] - 6s 118ms/step - loss: 0.0023\n",
            "Epoch 26/100\n",
            "50/50 [==============================] - 6s 119ms/step - loss: 0.0022\n",
            "Epoch 27/100\n",
            "50/50 [==============================] - 6s 119ms/step - loss: 0.0022\n",
            "Epoch 28/100\n",
            "50/50 [==============================] - 6s 119ms/step - loss: 0.0019\n",
            "Epoch 29/100\n",
            "50/50 [==============================] - 6s 119ms/step - loss: 0.0020\n",
            "Epoch 30/100\n",
            "50/50 [==============================] - 6s 120ms/step - loss: 0.0018\n",
            "Epoch 31/100\n",
            "50/50 [==============================] - 6s 118ms/step - loss: 0.0022\n",
            "Epoch 32/100\n",
            "50/50 [==============================] - 6s 120ms/step - loss: 0.0020\n",
            "Epoch 33/100\n",
            "50/50 [==============================] - 6s 121ms/step - loss: 0.0022\n",
            "Epoch 34/100\n",
            "50/50 [==============================] - 6s 118ms/step - loss: 0.0018\n",
            "Epoch 35/100\n",
            "50/50 [==============================] - 6s 118ms/step - loss: 0.0017\n",
            "Epoch 36/100\n",
            "50/50 [==============================] - 6s 120ms/step - loss: 0.0018\n",
            "Epoch 37/100\n",
            "50/50 [==============================] - 6s 119ms/step - loss: 0.0020\n",
            "Epoch 38/100\n",
            "50/50 [==============================] - 6s 120ms/step - loss: 0.0017\n",
            "Epoch 39/100\n",
            "50/50 [==============================] - 6s 119ms/step - loss: 0.0018\n",
            "Epoch 40/100\n",
            "50/50 [==============================] - 6s 118ms/step - loss: 0.0017\n",
            "Epoch 41/100\n",
            "50/50 [==============================] - 6s 116ms/step - loss: 0.0019\n",
            "Epoch 42/100\n",
            "50/50 [==============================] - 6s 118ms/step - loss: 0.0018\n",
            "Epoch 43/100\n",
            "50/50 [==============================] - 6s 119ms/step - loss: 0.0016\n",
            "Epoch 44/100\n",
            "50/50 [==============================] - 6s 121ms/step - loss: 0.0016\n",
            "Epoch 45/100\n",
            "50/50 [==============================] - 6s 121ms/step - loss: 0.0015\n",
            "Epoch 46/100\n",
            "50/50 [==============================] - 6s 123ms/step - loss: 0.0018\n",
            "Epoch 47/100\n",
            "50/50 [==============================] - 6s 124ms/step - loss: 0.0015\n",
            "Epoch 48/100\n",
            "50/50 [==============================] - 6s 119ms/step - loss: 0.0015\n",
            "Epoch 49/100\n",
            "50/50 [==============================] - 6s 120ms/step - loss: 0.0016\n",
            "Epoch 50/100\n",
            "50/50 [==============================] - 6s 120ms/step - loss: 0.0013\n",
            "Epoch 51/100\n",
            "50/50 [==============================] - 6s 119ms/step - loss: 0.0013\n",
            "Epoch 52/100\n",
            "50/50 [==============================] - 6s 124ms/step - loss: 0.0013\n",
            "Epoch 53/100\n",
            "50/50 [==============================] - 6s 123ms/step - loss: 0.0017\n",
            "Epoch 54/100\n",
            "50/50 [==============================] - 6s 119ms/step - loss: 0.0012\n",
            "Epoch 55/100\n",
            "50/50 [==============================] - 6s 117ms/step - loss: 0.0012\n",
            "Epoch 56/100\n",
            "50/50 [==============================] - 6s 117ms/step - loss: 0.0013\n",
            "Epoch 57/100\n",
            "50/50 [==============================] - 6s 117ms/step - loss: 0.0012\n",
            "Epoch 58/100\n",
            "50/50 [==============================] - 6s 119ms/step - loss: 0.0013\n",
            "Epoch 59/100\n",
            "50/50 [==============================] - 6s 120ms/step - loss: 0.0013\n",
            "Epoch 60/100\n",
            "50/50 [==============================] - 6s 118ms/step - loss: 0.0014\n",
            "Epoch 61/100\n",
            "50/50 [==============================] - 6s 119ms/step - loss: 0.0012\n",
            "Epoch 62/100\n",
            "50/50 [==============================] - 6s 119ms/step - loss: 0.0012\n",
            "Epoch 63/100\n",
            "50/50 [==============================] - 6s 118ms/step - loss: 0.0014\n",
            "Epoch 64/100\n",
            "50/50 [==============================] - 6s 119ms/step - loss: 0.0011\n",
            "Epoch 65/100\n",
            "50/50 [==============================] - 6s 119ms/step - loss: 0.0011\n",
            "Epoch 66/100\n",
            "50/50 [==============================] - 6s 119ms/step - loss: 0.0011\n",
            "Epoch 67/100\n",
            "50/50 [==============================] - 6s 120ms/step - loss: 0.0011\n",
            "Epoch 68/100\n",
            "50/50 [==============================] - 6s 118ms/step - loss: 0.0012\n",
            "Epoch 69/100\n",
            "50/50 [==============================] - 6s 119ms/step - loss: 9.5456e-04\n",
            "Epoch 70/100\n",
            "50/50 [==============================] - 6s 120ms/step - loss: 0.0012\n",
            "Epoch 71/100\n",
            "50/50 [==============================] - 6s 120ms/step - loss: 0.0011\n",
            "Epoch 72/100\n",
            "50/50 [==============================] - 6s 121ms/step - loss: 0.0011\n",
            "Epoch 73/100\n",
            "50/50 [==============================] - 6s 120ms/step - loss: 0.0010\n",
            "Epoch 74/100\n",
            "50/50 [==============================] - 6s 122ms/step - loss: 9.9354e-04\n",
            "Epoch 75/100\n",
            "50/50 [==============================] - 6s 121ms/step - loss: 9.7421e-04\n",
            "Epoch 76/100\n",
            "50/50 [==============================] - 6s 119ms/step - loss: 9.8200e-04\n",
            "Epoch 77/100\n",
            "50/50 [==============================] - 6s 121ms/step - loss: 0.0012\n",
            "Epoch 78/100\n",
            "50/50 [==============================] - 6s 118ms/step - loss: 0.0011\n",
            "Epoch 79/100\n",
            "50/50 [==============================] - 6s 119ms/step - loss: 0.0011\n",
            "Epoch 80/100\n",
            "50/50 [==============================] - 6s 120ms/step - loss: 0.0010\n",
            "Epoch 81/100\n",
            "50/50 [==============================] - 6s 119ms/step - loss: 9.9605e-04\n",
            "Epoch 82/100\n",
            "50/50 [==============================] - 6s 120ms/step - loss: 8.7882e-04\n",
            "Epoch 83/100\n",
            "50/50 [==============================] - 6s 118ms/step - loss: 8.9424e-04\n",
            "Epoch 84/100\n",
            "50/50 [==============================] - 6s 119ms/step - loss: 0.0010\n",
            "Epoch 85/100\n",
            "50/50 [==============================] - 6s 118ms/step - loss: 9.3789e-04\n",
            "Epoch 86/100\n",
            "50/50 [==============================] - 6s 118ms/step - loss: 8.3773e-04\n",
            "Epoch 87/100\n",
            "50/50 [==============================] - 6s 119ms/step - loss: 9.9863e-04\n",
            "Epoch 88/100\n",
            "50/50 [==============================] - 6s 117ms/step - loss: 9.7818e-04\n",
            "Epoch 89/100\n",
            "50/50 [==============================] - 6s 118ms/step - loss: 9.8327e-04\n",
            "Epoch 90/100\n",
            "50/50 [==============================] - 6s 119ms/step - loss: 8.9790e-04\n",
            "Epoch 91/100\n",
            "50/50 [==============================] - 6s 119ms/step - loss: 9.8436e-04\n",
            "Epoch 92/100\n",
            "50/50 [==============================] - 6s 119ms/step - loss: 8.8609e-04\n",
            "Epoch 93/100\n",
            "50/50 [==============================] - 6s 119ms/step - loss: 9.6322e-04\n",
            "Epoch 94/100\n",
            "50/50 [==============================] - 6s 120ms/step - loss: 8.9561e-04\n",
            "Epoch 95/100\n",
            "50/50 [==============================] - 6s 119ms/step - loss: 8.6119e-04\n",
            "Epoch 96/100\n",
            "50/50 [==============================] - 6s 119ms/step - loss: 8.4389e-04\n",
            "Epoch 97/100\n",
            "50/50 [==============================] - 6s 119ms/step - loss: 9.7706e-04\n",
            "Epoch 98/100\n",
            "50/50 [==============================] - 6s 123ms/step - loss: 8.1990e-04\n",
            "Epoch 99/100\n",
            "50/50 [==============================] - 6s 124ms/step - loss: 9.0620e-04\n",
            "Epoch 100/100\n",
            "50/50 [==============================] - 6s 124ms/step - loss: 7.8874e-04\n"
          ],
          "name": "stdout"
        },
        {
          "output_type": "execute_result",
          "data": {
            "text/plain": [
              "<tensorflow.python.keras.callbacks.History at 0x7f942f50c518>"
            ]
          },
          "metadata": {
            "tags": []
          },
          "execution_count": 14
        }
      ]
    },
    {
      "cell_type": "code",
      "metadata": {
        "id": "DSoNMKqQ_NnN"
      },
      "source": [
        "#getting test data\r\n",
        "\r\n",
        "file_id = '15iacoJgstQA0JR0awd0qnhguEu0Lc9zE'\r\n",
        "downloaded = drive.CreateFile({'id': file_id})\r\n",
        "downloaded.GetContentFile('dataset_daily_msft_half_test.csv')"
      ],
      "execution_count": null,
      "outputs": []
    },
    {
      "cell_type": "code",
      "metadata": {
        "id": "1SsxQ2S3_uk3"
      },
      "source": [
        "dataset_test = pd.read_csv('dataset_daily_msft_half_test.csv')\r\n",
        "real_stock_price = dataset_test.iloc[:, 1:2].values"
      ],
      "execution_count": null,
      "outputs": []
    },
    {
      "cell_type": "code",
      "metadata": {
        "colab": {
          "base_uri": "https://localhost:8080/"
        },
        "id": "2MK0X_eSRm_4",
        "outputId": "8e446766-669b-458b-db7c-170039945d35"
      },
      "source": [
        "dataset_test.shape"
      ],
      "execution_count": null,
      "outputs": [
        {
          "output_type": "execute_result",
          "data": {
            "text/plain": [
              "(890, 6)"
            ]
          },
          "metadata": {
            "tags": []
          },
          "execution_count": 17
        }
      ]
    },
    {
      "cell_type": "code",
      "metadata": {
        "colab": {
          "base_uri": "https://localhost:8080/",
          "height": 204
        },
        "id": "NYe7b15JR9WX",
        "outputId": "d0506da1-8036-4c9b-e3cc-04c6c0000935"
      },
      "source": [
        "dataset_test.head()"
      ],
      "execution_count": null,
      "outputs": [
        {
          "output_type": "execute_result",
          "data": {
            "text/html": [
              "<div>\n",
              "<style scoped>\n",
              "    .dataframe tbody tr th:only-of-type {\n",
              "        vertical-align: middle;\n",
              "    }\n",
              "\n",
              "    .dataframe tbody tr th {\n",
              "        vertical-align: top;\n",
              "    }\n",
              "\n",
              "    .dataframe thead th {\n",
              "        text-align: right;\n",
              "    }\n",
              "</style>\n",
              "<table border=\"1\" class=\"dataframe\">\n",
              "  <thead>\n",
              "    <tr style=\"text-align: right;\">\n",
              "      <th></th>\n",
              "      <th>timestamp</th>\n",
              "      <th>open</th>\n",
              "      <th>high</th>\n",
              "      <th>low</th>\n",
              "      <th>close</th>\n",
              "      <th>volume</th>\n",
              "    </tr>\n",
              "  </thead>\n",
              "  <tbody>\n",
              "    <tr>\n",
              "      <th>0</th>\n",
              "      <td>2019-01-02</td>\n",
              "      <td>99.55</td>\n",
              "      <td>101.75</td>\n",
              "      <td>98.94</td>\n",
              "      <td>101.12</td>\n",
              "      <td>35329345</td>\n",
              "    </tr>\n",
              "    <tr>\n",
              "      <th>1</th>\n",
              "      <td>2018-12-31</td>\n",
              "      <td>101.29</td>\n",
              "      <td>102.40</td>\n",
              "      <td>100.44</td>\n",
              "      <td>101.57</td>\n",
              "      <td>33173765</td>\n",
              "    </tr>\n",
              "    <tr>\n",
              "      <th>2</th>\n",
              "      <td>2018-12-28</td>\n",
              "      <td>102.09</td>\n",
              "      <td>102.41</td>\n",
              "      <td>99.52</td>\n",
              "      <td>100.39</td>\n",
              "      <td>38169312</td>\n",
              "    </tr>\n",
              "    <tr>\n",
              "      <th>3</th>\n",
              "      <td>2018-12-27</td>\n",
              "      <td>99.30</td>\n",
              "      <td>101.19</td>\n",
              "      <td>96.40</td>\n",
              "      <td>101.18</td>\n",
              "      <td>49498509</td>\n",
              "    </tr>\n",
              "    <tr>\n",
              "      <th>4</th>\n",
              "      <td>2018-12-26</td>\n",
              "      <td>95.14</td>\n",
              "      <td>100.69</td>\n",
              "      <td>93.96</td>\n",
              "      <td>100.56</td>\n",
              "      <td>51634793</td>\n",
              "    </tr>\n",
              "  </tbody>\n",
              "</table>\n",
              "</div>"
            ],
            "text/plain": [
              "    timestamp    open    high     low   close    volume\n",
              "0  2019-01-02   99.55  101.75   98.94  101.12  35329345\n",
              "1  2018-12-31  101.29  102.40  100.44  101.57  33173765\n",
              "2  2018-12-28  102.09  102.41   99.52  100.39  38169312\n",
              "3  2018-12-27   99.30  101.19   96.40  101.18  49498509\n",
              "4  2018-12-26   95.14  100.69   93.96  100.56  51634793"
            ]
          },
          "metadata": {
            "tags": []
          },
          "execution_count": 18
        }
      ]
    },
    {
      "cell_type": "code",
      "metadata": {
        "colab": {
          "base_uri": "https://localhost:8080/"
        },
        "id": "E46F7T6MVihx",
        "outputId": "dd8b5b93-281e-4849-a248-beee33e45388"
      },
      "source": [
        "last_test_index = dataset_test.shape[0] + daysToLookBack\r\n",
        "last_test_index"
      ],
      "execution_count": null,
      "outputs": [
        {
          "output_type": "execute_result",
          "data": {
            "text/plain": [
              "950"
            ]
          },
          "metadata": {
            "tags": []
          },
          "execution_count": 27
        }
      ]
    },
    {
      "cell_type": "code",
      "metadata": {
        "id": "3I08xqYc_yOr"
      },
      "source": [
        "dataset_total = pd.concat((dataset_train['open'], dataset_test['open']), axis = 0)\r\n",
        "inputs = dataset_total[len(dataset_total) - len(dataset_test) - daysToLookBack:].values\r\n",
        "inputs = inputs.reshape(-1,1)\r\n",
        "inputs = sc.transform(inputs)\r\n",
        "X_test = []\r\n",
        "for i in range(daysToLookBack, last_test_index): # 1909 is dataset_test x shape + 60, this 60 is days to look back\r\n",
        "    X_test.append(inputs[i-daysToLookBack:i, 0])\r\n",
        "X_test = np.array(X_test)\r\n",
        "X_test = np.reshape(X_test, (X_test.shape[0], X_test.shape[1], 1))\r\n",
        "predicted_stock_price = regressor.predict(X_test)\r\n",
        "predicted_stock_price = sc.inverse_transform(predicted_stock_price)"
      ],
      "execution_count": null,
      "outputs": []
    },
    {
      "cell_type": "code",
      "metadata": {
        "colab": {
          "base_uri": "https://localhost:8080/"
        },
        "id": "VlVghgPbPYXn",
        "outputId": "e17c40e3-629b-4f84-ca48-64a7dac04afc"
      },
      "source": [
        "# Calculate RMSE performance metrics\r\n",
        "import math\r\n",
        "from sklearn.metrics import mean_squared_error\r\n",
        "math.sqrt(mean_squared_error(real_stock_price, predicted_stock_price))"
      ],
      "execution_count": null,
      "outputs": [
        {
          "output_type": "execute_result",
          "data": {
            "text/plain": [
              "13.898225266553812"
            ]
          },
          "metadata": {
            "tags": []
          },
          "execution_count": 29
        }
      ]
    },
    {
      "cell_type": "code",
      "metadata": {
        "id": "JeiHneZ6Wrtv"
      },
      "source": [
        "plt.rcParams['figure.figsize'] = (25,15)"
      ],
      "execution_count": null,
      "outputs": []
    },
    {
      "cell_type": "code",
      "metadata": {
        "colab": {
          "base_uri": "https://localhost:8080/",
          "height": 716
        },
        "id": "2YJ9dxtCRUZw",
        "outputId": "9156ca2a-682e-4924-cbba-5de2ef006f48"
      },
      "source": [
        "plt.plot(real_stock_price, color = 'black', label = 'MSFT Stock Price')\r\n",
        "plt.plot(predicted_stock_price, color = 'red', label = 'Predicted MSFT Stock Price', linestyle = 'solid')\r\n",
        "plt.title('MSFT Stock Price Prediction')\r\n",
        "plt.xlabel('Time')\r\n",
        "plt.ylabel('MSFT Stock Price')\r\n",
        "plt.legend()\r\n",
        "plt.show()"
      ],
      "execution_count": null,
      "outputs": [
        {
          "output_type": "display_data",
          "data": {
            "image/png": "[encoded data removed]",
            "text/plain": [
              "<Figure size 1800x1080 with 1 Axes>"
            ]
          },
          "metadata": {
            "tags": [],
            "needs_background": "light"
          }
        }
      ]
    }
  ]
}