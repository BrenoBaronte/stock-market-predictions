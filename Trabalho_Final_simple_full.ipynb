{
  "nbformat": 4,
  "nbformat_minor": 0,
  "metadata": {
    "colab": {
      "name": "Trabalho Final - simple full.ipynb",
      "provenance": [],
      "authorship_tag": "ABX9TyNbwFOLDDPOoCh1OnNoMBcb",
      "include_colab_link": true
    },
    "kernelspec": {
      "name": "python3",
      "display_name": "Python 3"
    }
  },
  "cells": [
    {
      "cell_type": "markdown",
      "metadata": {
        "id": "view-in-github",
        "colab_type": "text"
      },
      "source": [
        "<a href=\"https://colab.research.google.com/github/BrenoBaronte/stock-market-predictions/blob/main/Trabalho_Final_simple_full.ipynb\" target=\"_parent\"><img src=\"https://colab.research.google.com/assets/colab-badge.svg\" alt=\"Open In Colab\"/></a>"
      ]
    },
    {
      "cell_type": "code",
      "metadata": {
        "colab": {
          "base_uri": "https://localhost:8080/"
        },
        "id": "Wz4H3_Ig1nWv",
        "outputId": "4dec02de-b65b-4092-8ec9-3268aecf5d3d"
      },
      "source": [
        " # Step 0 - importing the dataset file\r\n",
        "!pip install pydrive\r\n",
        "from pydrive.auth import GoogleAuth\r\n",
        "from pydrive.drive import GoogleDrive\r\n",
        "from google.colab import auth\r\n",
        "from oauth2client.client import GoogleCredentials\r\n",
        "\r\n",
        "auth.authenticate_user()\r\n",
        "gauth = GoogleAuth()\r\n",
        "gauth.credentials = GoogleCredentials.get_application_default()\r\n",
        "drive = GoogleDrive(gauth)\r\n",
        "\r\n",
        "file_id = '12bWmhsQoeAOk2JLCOzlRsk0IMQaKD6s2'\r\n",
        "downloaded = drive.CreateFile({'id': file_id})\r\n",
        "downloaded.GetContentFile('dataset_daily_msft_training.csv')"
      ],
      "execution_count": null,
      "outputs": [
        {
          "output_type": "stream",
          "text": [
            "Requirement already satisfied: pydrive in /usr/local/lib/python3.6/dist-packages (1.3.1)\n",
            "Requirement already satisfied: google-api-python-client>=1.2 in /usr/local/lib/python3.6/dist-packages (from pydrive) (1.7.12)\n",
            "Requirement already satisfied: PyYAML>=3.0 in /usr/local/lib/python3.6/dist-packages (from pydrive) (3.13)\n",
            "Requirement already satisfied: oauth2client>=4.0.0 in /usr/local/lib/python3.6/dist-packages (from pydrive) (4.1.3)\n",
            "Requirement already satisfied: uritemplate<4dev,>=3.0.0 in /usr/local/lib/python3.6/dist-packages (from google-api-python-client>=1.2->pydrive) (3.0.1)\n",
            "Requirement already satisfied: google-auth-httplib2>=0.0.3 in /usr/local/lib/python3.6/dist-packages (from google-api-python-client>=1.2->pydrive) (0.0.4)\n",
            "Requirement already satisfied: google-auth>=1.4.1 in /usr/local/lib/python3.6/dist-packages (from google-api-python-client>=1.2->pydrive) (1.17.2)\n",
            "Requirement already satisfied: httplib2<1dev,>=0.17.0 in /usr/local/lib/python3.6/dist-packages (from google-api-python-client>=1.2->pydrive) (0.17.4)\n",
            "Requirement already satisfied: six<2dev,>=1.6.1 in /usr/local/lib/python3.6/dist-packages (from google-api-python-client>=1.2->pydrive) (1.15.0)\n",
            "Requirement already satisfied: pyasn1>=0.1.7 in /usr/local/lib/python3.6/dist-packages (from oauth2client>=4.0.0->pydrive) (0.4.8)\n",
            "Requirement already satisfied: pyasn1-modules>=0.0.5 in /usr/local/lib/python3.6/dist-packages (from oauth2client>=4.0.0->pydrive) (0.2.8)\n",
            "Requirement already satisfied: rsa>=3.1.4 in /usr/local/lib/python3.6/dist-packages (from oauth2client>=4.0.0->pydrive) (4.6)\n",
            "Requirement already satisfied: cachetools<5.0,>=2.0.0 in /usr/local/lib/python3.6/dist-packages (from google-auth>=1.4.1->google-api-python-client>=1.2->pydrive) (4.2.0)\n",
            "Requirement already satisfied: setuptools>=40.3.0 in /usr/local/lib/python3.6/dist-packages (from google-auth>=1.4.1->google-api-python-client>=1.2->pydrive) (51.3.3)\n"
          ],
          "name": "stdout"
        }
      ]
    },
    {
      "cell_type": "code",
      "metadata": {
        "id": "C0p16Q1J7ZXy"
      },
      "source": [
        "import numpy as np\r\n",
        "import matplotlib.pyplot as plt\r\n",
        "import pandas as pd"
      ],
      "execution_count": null,
      "outputs": []
    },
    {
      "cell_type": "code",
      "metadata": {
        "id": "rn6CKtdL7iZm"
      },
      "source": [
        "dataset_train = pd.read_csv('dataset_daily_msft_training.csv')\r\n",
        "training_set = dataset_train.iloc[:, 1:2].values"
      ],
      "execution_count": null,
      "outputs": []
    },
    {
      "cell_type": "code",
      "metadata": {
        "colab": {
          "base_uri": "https://localhost:8080/",
          "height": 204
        },
        "id": "C2CbdGMj7mC5",
        "outputId": "2f545310-0e97-4ac2-ae87-4f34442ded41"
      },
      "source": [
        "dataset_train.head()"
      ],
      "execution_count": null,
      "outputs": [
        {
          "output_type": "execute_result",
          "data": {
            "text/html": [
              "<div>\n",
              "<style scoped>\n",
              "    .dataframe tbody tr th:only-of-type {\n",
              "        vertical-align: middle;\n",
              "    }\n",
              "\n",
              "    .dataframe tbody tr th {\n",
              "        vertical-align: top;\n",
              "    }\n",
              "\n",
              "    .dataframe thead th {\n",
              "        text-align: right;\n",
              "    }\n",
              "</style>\n",
              "<table border=\"1\" class=\"dataframe\">\n",
              "  <thead>\n",
              "    <tr style=\"text-align: right;\">\n",
              "      <th></th>\n",
              "      <th>timestamp</th>\n",
              "      <th>open</th>\n",
              "      <th>high</th>\n",
              "      <th>low</th>\n",
              "      <th>close</th>\n",
              "      <th>volume</th>\n",
              "    </tr>\n",
              "  </thead>\n",
              "  <tbody>\n",
              "    <tr>\n",
              "      <th>0</th>\n",
              "      <td>2011-08-25</td>\n",
              "      <td>25.08</td>\n",
              "      <td>25.16</td>\n",
              "      <td>24.50</td>\n",
              "      <td>24.57</td>\n",
              "      <td>48192000</td>\n",
              "    </tr>\n",
              "    <tr>\n",
              "      <th>1</th>\n",
              "      <td>2011-08-24</td>\n",
              "      <td>24.65</td>\n",
              "      <td>24.93</td>\n",
              "      <td>24.42</td>\n",
              "      <td>24.90</td>\n",
              "      <td>45329700</td>\n",
              "    </tr>\n",
              "    <tr>\n",
              "      <th>2</th>\n",
              "      <td>2011-08-23</td>\n",
              "      <td>24.03</td>\n",
              "      <td>24.75</td>\n",
              "      <td>24.03</td>\n",
              "      <td>24.72</td>\n",
              "      <td>59670600</td>\n",
              "    </tr>\n",
              "    <tr>\n",
              "      <th>3</th>\n",
              "      <td>2011-08-22</td>\n",
              "      <td>24.42</td>\n",
              "      <td>24.49</td>\n",
              "      <td>23.79</td>\n",
              "      <td>23.98</td>\n",
              "      <td>54721000</td>\n",
              "    </tr>\n",
              "    <tr>\n",
              "      <th>4</th>\n",
              "      <td>2011-08-19</td>\n",
              "      <td>24.41</td>\n",
              "      <td>24.62</td>\n",
              "      <td>23.91</td>\n",
              "      <td>24.05</td>\n",
              "      <td>77397900</td>\n",
              "    </tr>\n",
              "  </tbody>\n",
              "</table>\n",
              "</div>"
            ],
            "text/plain": [
              "    timestamp   open   high    low  close    volume\n",
              "0  2011-08-25  25.08  25.16  24.50  24.57  48192000\n",
              "1  2011-08-24  24.65  24.93  24.42  24.90  45329700\n",
              "2  2011-08-23  24.03  24.75  24.03  24.72  59670600\n",
              "3  2011-08-22  24.42  24.49  23.79  23.98  54721000\n",
              "4  2011-08-19  24.41  24.62  23.91  24.05  77397900"
            ]
          },
          "metadata": {
            "tags": []
          },
          "execution_count": 6
        }
      ]
    },
    {
      "cell_type": "code",
      "metadata": {
        "id": "GiDLKVeF73kJ"
      },
      "source": [
        "from sklearn.preprocessing import MinMaxScaler\r\n",
        "sc = MinMaxScaler(feature_range = (0, 1))\r\n",
        "training_set_scaled = sc.fit_transform(training_set)"
      ],
      "execution_count": null,
      "outputs": []
    },
    {
      "cell_type": "code",
      "metadata": {
        "colab": {
          "base_uri": "https://localhost:8080/"
        },
        "id": "SGDT9KQbMGSL",
        "outputId": "181211d2-adbd-47a1-f035-23214b3827d7"
      },
      "source": [
        "training_set_scaled.shape"
      ],
      "execution_count": null,
      "outputs": [
        {
          "output_type": "execute_result",
          "data": {
            "text/plain": [
              "(3435, 1)"
            ]
          },
          "metadata": {
            "tags": []
          },
          "execution_count": 8
        }
      ]
    },
    {
      "cell_type": "code",
      "metadata": {
        "id": "W5a39bS87_Cx"
      },
      "source": [
        "X_train = []\r\n",
        "y_train = []\r\n",
        "for i in range(60, 3435):\r\n",
        "    X_train.append(training_set_scaled[i-60:i, 0])\r\n",
        "    y_train.append(training_set_scaled[i, 0])\r\n",
        "X_train, y_train = np.array(X_train), np.array(y_train)\r\n",
        "\r\n",
        "X_train = np.reshape(X_train, (X_train.shape[0], X_train.shape[1], 1))"
      ],
      "execution_count": null,
      "outputs": []
    },
    {
      "cell_type": "code",
      "metadata": {
        "id": "Tny3cPG98HQu"
      },
      "source": [
        "from keras.models import Sequential\r\n",
        "from keras.layers import Dense\r\n",
        "from keras.layers import LSTM\r\n",
        "from keras.layers import Dropout"
      ],
      "execution_count": null,
      "outputs": []
    },
    {
      "cell_type": "code",
      "metadata": {
        "id": "n0LxXdRO8SWo"
      },
      "source": [
        "regressor = Sequential()\r\n",
        "\r\n",
        "regressor.add(LSTM(units = 50, return_sequences = True, input_shape = (X_train.shape[1], 1)))\r\n",
        "regressor.add(Dropout(0.2))\r\n",
        "\r\n",
        "regressor.add(LSTM(units = 50))\r\n",
        "regressor.add(Dropout(0.2))\r\n",
        "\r\n",
        "regressor.add(Dense(units = 1))"
      ],
      "execution_count": null,
      "outputs": []
    },
    {
      "cell_type": "code",
      "metadata": {
        "id": "K3WKtqy18rUn"
      },
      "source": [
        "regressor.compile(optimizer = 'adam', loss = 'mean_squared_error')"
      ],
      "execution_count": null,
      "outputs": []
    },
    {
      "cell_type": "code",
      "metadata": {
        "colab": {
          "base_uri": "https://localhost:8080/"
        },
        "id": "NMacEztt8tQG",
        "outputId": "3bd62e10-9b1c-4695-ff03-a8fd577fa846"
      },
      "source": [
        "regressor.summary()"
      ],
      "execution_count": null,
      "outputs": [
        {
          "output_type": "stream",
          "text": [
            "Model: \"sequential\"\n",
            "_________________________________________________________________\n",
            "Layer (type)                 Output Shape              Param #   \n",
            "=================================================================\n",
            "lstm (LSTM)                  (None, 60, 50)            10400     \n",
            "_________________________________________________________________\n",
            "dropout (Dropout)            (None, 60, 50)            0         \n",
            "_________________________________________________________________\n",
            "lstm_1 (LSTM)                (None, 50)                20200     \n",
            "_________________________________________________________________\n",
            "dropout_1 (Dropout)          (None, 50)                0         \n",
            "_________________________________________________________________\n",
            "dense (Dense)                (None, 1)                 51        \n",
            "=================================================================\n",
            "Total params: 30,651\n",
            "Trainable params: 30,651\n",
            "Non-trainable params: 0\n",
            "_________________________________________________________________\n"
          ],
          "name": "stdout"
        }
      ]
    },
    {
      "cell_type": "code",
      "metadata": {
        "colab": {
          "base_uri": "https://localhost:8080/"
        },
        "id": "D1WzQ8PR82n_",
        "outputId": "0f968b17-36a5-4c46-a05c-1e2c5f0e2064"
      },
      "source": [
        "regressor.fit(X_train, y_train, epochs = 50, batch_size = 32)"
      ],
      "execution_count": null,
      "outputs": [
        {
          "output_type": "stream",
          "text": [
            "Epoch 1/50\n",
            "106/106 [==============================] - 10s 58ms/step - loss: 0.0104\n",
            "Epoch 2/50\n",
            "106/106 [==============================] - 6s 59ms/step - loss: 0.0018\n",
            "Epoch 3/50\n",
            "106/106 [==============================] - 6s 58ms/step - loss: 0.0014\n",
            "Epoch 4/50\n",
            "106/106 [==============================] - 6s 59ms/step - loss: 0.0015\n",
            "Epoch 5/50\n",
            "106/106 [==============================] - 6s 59ms/step - loss: 0.0010\n",
            "Epoch 6/50\n",
            "106/106 [==============================] - 6s 58ms/step - loss: 0.0013\n",
            "Epoch 7/50\n",
            "106/106 [==============================] - 6s 58ms/step - loss: 0.0010\n",
            "Epoch 8/50\n",
            "106/106 [==============================] - 6s 59ms/step - loss: 0.0011\n",
            "Epoch 9/50\n",
            "106/106 [==============================] - 6s 58ms/step - loss: 9.1959e-04\n",
            "Epoch 10/50\n",
            "106/106 [==============================] - 6s 59ms/step - loss: 9.7747e-04\n",
            "Epoch 11/50\n",
            "106/106 [==============================] - 6s 58ms/step - loss: 8.7678e-04\n",
            "Epoch 12/50\n",
            "106/106 [==============================] - 6s 59ms/step - loss: 7.2557e-04\n",
            "Epoch 13/50\n",
            "106/106 [==============================] - 6s 59ms/step - loss: 9.9000e-04\n",
            "Epoch 14/50\n",
            "106/106 [==============================] - 6s 59ms/step - loss: 9.1966e-04\n",
            "Epoch 15/50\n",
            "106/106 [==============================] - 6s 59ms/step - loss: 9.2731e-04\n",
            "Epoch 16/50\n",
            "106/106 [==============================] - 6s 59ms/step - loss: 9.6908e-04\n",
            "Epoch 17/50\n",
            "106/106 [==============================] - 7s 62ms/step - loss: 7.5451e-04\n",
            "Epoch 18/50\n",
            "106/106 [==============================] - 7s 62ms/step - loss: 8.9700e-04\n",
            "Epoch 19/50\n",
            "106/106 [==============================] - 7s 62ms/step - loss: 6.2422e-04\n",
            "Epoch 20/50\n",
            "106/106 [==============================] - 7s 62ms/step - loss: 7.6792e-04\n",
            "Epoch 21/50\n",
            "106/106 [==============================] - 7s 61ms/step - loss: 6.6393e-04\n",
            "Epoch 22/50\n",
            "106/106 [==============================] - 7s 62ms/step - loss: 4.9242e-04\n",
            "Epoch 23/50\n",
            "106/106 [==============================] - 7s 63ms/step - loss: 5.0742e-04\n",
            "Epoch 24/50\n",
            "106/106 [==============================] - 7s 62ms/step - loss: 8.1587e-04\n",
            "Epoch 25/50\n",
            "106/106 [==============================] - 7s 61ms/step - loss: 7.1753e-04\n",
            "Epoch 26/50\n",
            "106/106 [==============================] - 7s 62ms/step - loss: 6.8338e-04\n",
            "Epoch 27/50\n",
            "106/106 [==============================] - 7s 62ms/step - loss: 5.3010e-04\n",
            "Epoch 28/50\n",
            "106/106 [==============================] - 7s 62ms/step - loss: 6.5134e-04\n",
            "Epoch 29/50\n",
            "106/106 [==============================] - 7s 63ms/step - loss: 8.0862e-04\n",
            "Epoch 30/50\n",
            "106/106 [==============================] - 7s 63ms/step - loss: 5.7855e-04\n",
            "Epoch 31/50\n",
            "106/106 [==============================] - 7s 62ms/step - loss: 9.2378e-04\n",
            "Epoch 32/50\n",
            "106/106 [==============================] - 7s 62ms/step - loss: 5.2686e-04\n",
            "Epoch 33/50\n",
            "106/106 [==============================] - 7s 67ms/step - loss: 5.3682e-04\n",
            "Epoch 34/50\n",
            "106/106 [==============================] - 7s 62ms/step - loss: 5.7896e-04\n",
            "Epoch 35/50\n",
            "106/106 [==============================] - 6s 61ms/step - loss: 5.4237e-04\n",
            "Epoch 36/50\n",
            "106/106 [==============================] - 7s 62ms/step - loss: 5.7182e-04\n",
            "Epoch 37/50\n",
            "106/106 [==============================] - 7s 62ms/step - loss: 5.9800e-04\n",
            "Epoch 38/50\n",
            "106/106 [==============================] - 6s 61ms/step - loss: 4.4519e-04\n",
            "Epoch 39/50\n",
            "106/106 [==============================] - 7s 63ms/step - loss: 5.4871e-04\n",
            "Epoch 40/50\n",
            "106/106 [==============================] - 7s 62ms/step - loss: 5.8259e-04\n",
            "Epoch 41/50\n",
            "106/106 [==============================] - 7s 62ms/step - loss: 5.4922e-04\n",
            "Epoch 42/50\n",
            "106/106 [==============================] - 7s 62ms/step - loss: 5.8851e-04\n",
            "Epoch 43/50\n",
            "106/106 [==============================] - 7s 63ms/step - loss: 5.2849e-04\n",
            "Epoch 44/50\n",
            "106/106 [==============================] - 7s 64ms/step - loss: 4.6393e-04\n",
            "Epoch 45/50\n",
            "106/106 [==============================] - 7s 61ms/step - loss: 7.6227e-04\n",
            "Epoch 46/50\n",
            "106/106 [==============================] - 6s 61ms/step - loss: 6.2553e-04\n",
            "Epoch 47/50\n",
            "106/106 [==============================] - 7s 62ms/step - loss: 5.9175e-04\n",
            "Epoch 48/50\n",
            "106/106 [==============================] - 7s 62ms/step - loss: 6.9761e-04\n",
            "Epoch 49/50\n",
            "106/106 [==============================] - 6s 61ms/step - loss: 5.2876e-04\n",
            "Epoch 50/50\n",
            "106/106 [==============================] - 7s 62ms/step - loss: 7.9414e-04\n"
          ],
          "name": "stdout"
        },
        {
          "output_type": "execute_result",
          "data": {
            "text/plain": [
              "<tensorflow.python.keras.callbacks.History at 0x7fa11cf78be0>"
            ]
          },
          "metadata": {
            "tags": []
          },
          "execution_count": 14
        }
      ]
    },
    {
      "cell_type": "code",
      "metadata": {
        "id": "DSoNMKqQ_NnN"
      },
      "source": [
        "#getting test data\r\n",
        "\r\n",
        "file_id = '10oiV6jvHGtiXgDDJmMByxBhiyYKjaQCw'\r\n",
        "downloaded = drive.CreateFile({'id': file_id})\r\n",
        "downloaded.GetContentFile('dataset_daily_msft_test.csv')"
      ],
      "execution_count": null,
      "outputs": []
    },
    {
      "cell_type": "code",
      "metadata": {
        "id": "1SsxQ2S3_uk3"
      },
      "source": [
        "dataset_test = pd.read_csv('dataset_daily_msft_test.csv')\r\n",
        "real_stock_price = dataset_test.iloc[:, 1:2].values"
      ],
      "execution_count": null,
      "outputs": []
    },
    {
      "cell_type": "code",
      "metadata": {
        "colab": {
          "base_uri": "https://localhost:8080/"
        },
        "id": "2MK0X_eSRm_4",
        "outputId": "85d9c309-45d4-41ff-fac2-b1e03566b24e"
      },
      "source": [
        "dataset_test.shape"
      ],
      "execution_count": null,
      "outputs": [
        {
          "output_type": "execute_result",
          "data": {
            "text/plain": [
              "(1849, 6)"
            ]
          },
          "metadata": {
            "tags": []
          },
          "execution_count": 17
        }
      ]
    },
    {
      "cell_type": "code",
      "metadata": {
        "colab": {
          "base_uri": "https://localhost:8080/",
          "height": 204
        },
        "id": "NYe7b15JR9WX",
        "outputId": "23086333-40dd-44e4-f91c-63693eb5e4e5"
      },
      "source": [
        "dataset_test.head()"
      ],
      "execution_count": null,
      "outputs": [
        {
          "output_type": "execute_result",
          "data": {
            "text/html": [
              "<div>\n",
              "<style scoped>\n",
              "    .dataframe tbody tr th:only-of-type {\n",
              "        vertical-align: middle;\n",
              "    }\n",
              "\n",
              "    .dataframe tbody tr th {\n",
              "        vertical-align: top;\n",
              "    }\n",
              "\n",
              "    .dataframe thead th {\n",
              "        text-align: right;\n",
              "    }\n",
              "</style>\n",
              "<table border=\"1\" class=\"dataframe\">\n",
              "  <thead>\n",
              "    <tr style=\"text-align: right;\">\n",
              "      <th></th>\n",
              "      <th>timestamp</th>\n",
              "      <th>open</th>\n",
              "      <th>high</th>\n",
              "      <th>low</th>\n",
              "      <th>close</th>\n",
              "      <th>volume</th>\n",
              "    </tr>\n",
              "  </thead>\n",
              "  <tbody>\n",
              "    <tr>\n",
              "      <th>0</th>\n",
              "      <td>2019-01-02</td>\n",
              "      <td>99.55</td>\n",
              "      <td>101.75</td>\n",
              "      <td>98.94</td>\n",
              "      <td>101.12</td>\n",
              "      <td>35329345</td>\n",
              "    </tr>\n",
              "    <tr>\n",
              "      <th>1</th>\n",
              "      <td>2018-12-31</td>\n",
              "      <td>101.29</td>\n",
              "      <td>102.40</td>\n",
              "      <td>100.44</td>\n",
              "      <td>101.57</td>\n",
              "      <td>33173765</td>\n",
              "    </tr>\n",
              "    <tr>\n",
              "      <th>2</th>\n",
              "      <td>2018-12-28</td>\n",
              "      <td>102.09</td>\n",
              "      <td>102.41</td>\n",
              "      <td>99.52</td>\n",
              "      <td>100.39</td>\n",
              "      <td>38169312</td>\n",
              "    </tr>\n",
              "    <tr>\n",
              "      <th>3</th>\n",
              "      <td>2018-12-27</td>\n",
              "      <td>99.30</td>\n",
              "      <td>101.19</td>\n",
              "      <td>96.40</td>\n",
              "      <td>101.18</td>\n",
              "      <td>49498509</td>\n",
              "    </tr>\n",
              "    <tr>\n",
              "      <th>4</th>\n",
              "      <td>2018-12-26</td>\n",
              "      <td>95.14</td>\n",
              "      <td>100.69</td>\n",
              "      <td>93.96</td>\n",
              "      <td>100.56</td>\n",
              "      <td>51634793</td>\n",
              "    </tr>\n",
              "  </tbody>\n",
              "</table>\n",
              "</div>"
            ],
            "text/plain": [
              "    timestamp    open    high     low   close    volume\n",
              "0  2019-01-02   99.55  101.75   98.94  101.12  35329345\n",
              "1  2018-12-31  101.29  102.40  100.44  101.57  33173765\n",
              "2  2018-12-28  102.09  102.41   99.52  100.39  38169312\n",
              "3  2018-12-27   99.30  101.19   96.40  101.18  49498509\n",
              "4  2018-12-26   95.14  100.69   93.96  100.56  51634793"
            ]
          },
          "metadata": {
            "tags": []
          },
          "execution_count": 18
        }
      ]
    },
    {
      "cell_type": "code",
      "metadata": {
        "id": "3I08xqYc_yOr"
      },
      "source": [
        "dataset_total = pd.concat((dataset_train['open'], dataset_test['open']), axis = 0)\r\n",
        "inputs = dataset_total[len(dataset_total) - len(dataset_test) - 60:].values\r\n",
        "inputs = inputs.reshape(-1,1)\r\n",
        "inputs = sc.transform(inputs)\r\n",
        "X_test = []\r\n",
        "for i in range(60, 1909): # 1909 is dataset_test x shape + 60, this 60 is days to look back\r\n",
        "    X_test.append(inputs[i-60:i, 0])\r\n",
        "X_test = np.array(X_test)\r\n",
        "X_test = np.reshape(X_test, (X_test.shape[0], X_test.shape[1], 1))\r\n",
        "predicted_stock_price = regressor.predict(X_test)\r\n",
        "predicted_stock_price = sc.inverse_transform(predicted_stock_price)"
      ],
      "execution_count": null,
      "outputs": []
    },
    {
      "cell_type": "code",
      "metadata": {
        "colab": {
          "base_uri": "https://localhost:8080/"
        },
        "id": "VlVghgPbPYXn",
        "outputId": "e308e023-bb3a-4acd-93f9-892749d48db2"
      },
      "source": [
        "# Calculate RMSE performance metrics\r\n",
        "import math\r\n",
        "from sklearn.metrics import mean_squared_error\r\n",
        "math.sqrt(mean_squared_error(real_stock_price, predicted_stock_price))"
      ],
      "execution_count": null,
      "outputs": [
        {
          "output_type": "execute_result",
          "data": {
            "text/plain": [
              "1.4422432957359343"
            ]
          },
          "metadata": {
            "tags": []
          },
          "execution_count": 20
        }
      ]
    },
    {
      "cell_type": "code",
      "metadata": {
        "id": "JeiHneZ6Wrtv"
      },
      "source": [
        "plt.rcParams['figure.figsize'] = (25,15)"
      ],
      "execution_count": null,
      "outputs": []
    },
    {
      "cell_type": "code",
      "metadata": {
        "colab": {
          "base_uri": "https://localhost:8080/",
          "height": 716
        },
        "id": "2YJ9dxtCRUZw",
        "outputId": "e9dfb4f4-ad6f-4931-f35e-1bb8f7249f68"
      },
      "source": [
        "plt.plot(real_stock_price, color = 'black', label = 'MSFT Stock Price')\r\n",
        "plt.plot(predicted_stock_price, color = 'orange', label = 'Predicted MSFT Stock Price', linestyle = 'solid')\r\n",
        "plt.title('MSFT Stock Price Prediction')\r\n",
        "plt.xlabel('Time')\r\n",
        "plt.ylabel('MSFT Stock Price')\r\n",
        "plt.legend()\r\n",
        "plt.show()"
      ],
      "execution_count": null,
      "outputs": [
        {
          "output_type": "display_data",
          "data": {
            "image/png": "[encoded data removed]",
            "text/plain": [
              "<Figure size 1800x1080 with 1 Axes>"
            ]
          },
          "metadata": {
            "tags": [],
            "needs_background": "light"
          }
        }
      ]
    }
  ]
}