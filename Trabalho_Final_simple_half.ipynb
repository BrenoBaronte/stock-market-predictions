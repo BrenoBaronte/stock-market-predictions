{
  "nbformat": 4,
  "nbformat_minor": 0,
  "metadata": {
    "colab": {
      "name": "Trabalho Final - simple half.ipynb",
      "provenance": [],
      "authorship_tag": "ABX9TyMxEk8xYFvfp1RYt6ArCHZW",
      "include_colab_link": true
    },
    "kernelspec": {
      "name": "python3",
      "display_name": "Python 3"
    }
  },
  "cells": [
    {
      "cell_type": "markdown",
      "metadata": {
        "id": "view-in-github",
        "colab_type": "text"
      },
      "source": [
        "<a href=\"https://colab.research.google.com/github/BrenoBaronte/stock-market-predictions/blob/main/Trabalho_Final_simple_half.ipynb\" target=\"_parent\"><img src=\"https://colab.research.google.com/assets/colab-badge.svg\" alt=\"Open In Colab\"/></a>"
      ]
    },
    {
      "cell_type": "code",
      "metadata": {
        "colab": {
          "base_uri": "https://localhost:8080/"
        },
        "id": "Wz4H3_Ig1nWv",
        "outputId": "b66b296b-5c31-420a-f959-c123bfd38d62"
      },
      "source": [
        "# Step 0 - importing the dataset file\r\n",
        "!pip install pydrive\r\n",
        "from pydrive.auth import GoogleAuth\r\n",
        "from pydrive.drive import GoogleDrive\r\n",
        "from google.colab import auth\r\n",
        "from oauth2client.client import GoogleCredentials\r\n",
        "\r\n",
        "auth.authenticate_user()\r\n",
        "gauth = GoogleAuth()\r\n",
        "gauth.credentials = GoogleCredentials.get_application_default()\r\n",
        "drive = GoogleDrive(gauth)\r\n",
        "\r\n",
        "file_id = '1Z5uVzXZlomQ5Z-_q-X60upKSUpm724K7'\r\n",
        "downloaded = drive.CreateFile({'id': file_id})\r\n",
        "downloaded.GetContentFile('dataset_daily_msft_half_training.csv')"
      ],
      "execution_count": null,
      "outputs": [
        {
          "output_type": "stream",
          "text": [
            "Requirement already satisfied: pydrive in /usr/local/lib/python3.6/dist-packages (1.3.1)\n",
            "Requirement already satisfied: oauth2client>=4.0.0 in /usr/local/lib/python3.6/dist-packages (from pydrive) (4.1.3)\n",
            "Requirement already satisfied: PyYAML>=3.0 in /usr/local/lib/python3.6/dist-packages (from pydrive) (3.13)\n",
            "Requirement already satisfied: google-api-python-client>=1.2 in /usr/local/lib/python3.6/dist-packages (from pydrive) (1.7.12)\n",
            "Requirement already satisfied: six>=1.6.1 in /usr/local/lib/python3.6/dist-packages (from oauth2client>=4.0.0->pydrive) (1.15.0)\n",
            "Requirement already satisfied: rsa>=3.1.4 in /usr/local/lib/python3.6/dist-packages (from oauth2client>=4.0.0->pydrive) (4.6)\n",
            "Requirement already satisfied: httplib2>=0.9.1 in /usr/local/lib/python3.6/dist-packages (from oauth2client>=4.0.0->pydrive) (0.17.4)\n",
            "Requirement already satisfied: pyasn1-modules>=0.0.5 in /usr/local/lib/python3.6/dist-packages (from oauth2client>=4.0.0->pydrive) (0.2.8)\n",
            "Requirement already satisfied: pyasn1>=0.1.7 in /usr/local/lib/python3.6/dist-packages (from oauth2client>=4.0.0->pydrive) (0.4.8)\n",
            "Requirement already satisfied: uritemplate<4dev,>=3.0.0 in /usr/local/lib/python3.6/dist-packages (from google-api-python-client>=1.2->pydrive) (3.0.1)\n",
            "Requirement already satisfied: google-auth-httplib2>=0.0.3 in /usr/local/lib/python3.6/dist-packages (from google-api-python-client>=1.2->pydrive) (0.0.4)\n",
            "Requirement already satisfied: google-auth>=1.4.1 in /usr/local/lib/python3.6/dist-packages (from google-api-python-client>=1.2->pydrive) (1.17.2)\n",
            "Requirement already satisfied: cachetools<5.0,>=2.0.0 in /usr/local/lib/python3.6/dist-packages (from google-auth>=1.4.1->google-api-python-client>=1.2->pydrive) (4.2.0)\n",
            "Requirement already satisfied: setuptools>=40.3.0 in /usr/local/lib/python3.6/dist-packages (from google-auth>=1.4.1->google-api-python-client>=1.2->pydrive) (51.3.3)\n"
          ],
          "name": "stdout"
        }
      ]
    },
    {
      "cell_type": "code",
      "metadata": {
        "id": "C0p16Q1J7ZXy"
      },
      "source": [
        "import numpy as np\r\n",
        "import matplotlib.pyplot as plt\r\n",
        "import pandas as pd"
      ],
      "execution_count": null,
      "outputs": []
    },
    {
      "cell_type": "code",
      "metadata": {
        "id": "rn6CKtdL7iZm"
      },
      "source": [
        "dataset_train = pd.read_csv('dataset_daily_msft_half_training.csv')\r\n",
        "training_set = dataset_train.iloc[:, 1:2].values"
      ],
      "execution_count": null,
      "outputs": []
    },
    {
      "cell_type": "code",
      "metadata": {
        "colab": {
          "base_uri": "https://localhost:8080/",
          "height": 204
        },
        "id": "C2CbdGMj7mC5",
        "outputId": "9d9e7cc3-bd8e-443c-cc70-0863076d55c8"
      },
      "source": [
        "dataset_train.head()"
      ],
      "execution_count": null,
      "outputs": [
        {
          "output_type": "execute_result",
          "data": {
            "text/html": [
              "<div>\n",
              "<style scoped>\n",
              "    .dataframe tbody tr th:only-of-type {\n",
              "        vertical-align: middle;\n",
              "    }\n",
              "\n",
              "    .dataframe tbody tr th {\n",
              "        vertical-align: top;\n",
              "    }\n",
              "\n",
              "    .dataframe thead th {\n",
              "        text-align: right;\n",
              "    }\n",
              "</style>\n",
              "<table border=\"1\" class=\"dataframe\">\n",
              "  <thead>\n",
              "    <tr style=\"text-align: right;\">\n",
              "      <th></th>\n",
              "      <th>timestamp</th>\n",
              "      <th>open</th>\n",
              "      <th>high</th>\n",
              "      <th>low</th>\n",
              "      <th>close</th>\n",
              "      <th>volume</th>\n",
              "    </tr>\n",
              "  </thead>\n",
              "  <tbody>\n",
              "    <tr>\n",
              "      <th>0</th>\n",
              "      <td>2015-06-19</td>\n",
              "      <td>46.79</td>\n",
              "      <td>46.825</td>\n",
              "      <td>45.9900</td>\n",
              "      <td>46.100</td>\n",
              "      <td>63837036</td>\n",
              "    </tr>\n",
              "    <tr>\n",
              "      <th>1</th>\n",
              "      <td>2015-06-18</td>\n",
              "      <td>46.22</td>\n",
              "      <td>46.800</td>\n",
              "      <td>46.1700</td>\n",
              "      <td>46.720</td>\n",
              "      <td>32658343</td>\n",
              "    </tr>\n",
              "    <tr>\n",
              "      <th>2</th>\n",
              "      <td>2015-06-17</td>\n",
              "      <td>45.73</td>\n",
              "      <td>46.070</td>\n",
              "      <td>45.3600</td>\n",
              "      <td>45.970</td>\n",
              "      <td>28704061</td>\n",
              "    </tr>\n",
              "    <tr>\n",
              "      <th>3</th>\n",
              "      <td>2015-06-16</td>\n",
              "      <td>45.35</td>\n",
              "      <td>46.240</td>\n",
              "      <td>45.3000</td>\n",
              "      <td>45.830</td>\n",
              "      <td>27070306</td>\n",
              "    </tr>\n",
              "    <tr>\n",
              "      <th>4</th>\n",
              "      <td>2015-06-15</td>\n",
              "      <td>45.45</td>\n",
              "      <td>45.650</td>\n",
              "      <td>45.0201</td>\n",
              "      <td>45.475</td>\n",
              "      <td>33254517</td>\n",
              "    </tr>\n",
              "  </tbody>\n",
              "</table>\n",
              "</div>"
            ],
            "text/plain": [
              "    timestamp   open    high      low   close    volume\n",
              "0  2015-06-19  46.79  46.825  45.9900  46.100  63837036\n",
              "1  2015-06-18  46.22  46.800  46.1700  46.720  32658343\n",
              "2  2015-06-17  45.73  46.070  45.3600  45.970  28704061\n",
              "3  2015-06-16  45.35  46.240  45.3000  45.830  27070306\n",
              "4  2015-06-15  45.45  45.650  45.0201  45.475  33254517"
            ]
          },
          "metadata": {
            "tags": []
          },
          "execution_count": 4
        }
      ]
    },
    {
      "cell_type": "code",
      "metadata": {
        "id": "GiDLKVeF73kJ"
      },
      "source": [
        "from sklearn.preprocessing import MinMaxScaler\r\n",
        "sc = MinMaxScaler(feature_range = (0, 1))\r\n",
        "training_set_scaled = sc.fit_transform(training_set)"
      ],
      "execution_count": null,
      "outputs": []
    },
    {
      "cell_type": "code",
      "metadata": {
        "colab": {
          "base_uri": "https://localhost:8080/"
        },
        "id": "SGDT9KQbMGSL",
        "outputId": "a5d7a7ea-7c05-4619-d4e2-fa964c366491"
      },
      "source": [
        "last_training_index = training_set_scaled.shape[0]\r\n",
        "last_training_index"
      ],
      "execution_count": null,
      "outputs": [
        {
          "output_type": "execute_result",
          "data": {
            "text/plain": [
              "1656"
            ]
          },
          "metadata": {
            "tags": []
          },
          "execution_count": 9
        }
      ]
    },
    {
      "cell_type": "code",
      "metadata": {
        "id": "W5a39bS87_Cx"
      },
      "source": [
        "X_train = []\r\n",
        "y_train = []\r\n",
        "for i in range(60, last_training_index):\r\n",
        "    X_train.append(training_set_scaled[i-60:i, 0])\r\n",
        "    y_train.append(training_set_scaled[i, 0])\r\n",
        "X_train, y_train = np.array(X_train), np.array(y_train)\r\n",
        "\r\n",
        "X_train = np.reshape(X_train, (X_train.shape[0], X_train.shape[1], 1))"
      ],
      "execution_count": null,
      "outputs": []
    },
    {
      "cell_type": "code",
      "metadata": {
        "id": "Tny3cPG98HQu"
      },
      "source": [
        "from keras.models import Sequential\r\n",
        "from keras.layers import Dense\r\n",
        "from keras.layers import LSTM\r\n",
        "from keras.layers import Dropout"
      ],
      "execution_count": null,
      "outputs": []
    },
    {
      "cell_type": "code",
      "metadata": {
        "id": "n0LxXdRO8SWo"
      },
      "source": [
        "regressor = Sequential()\r\n",
        "\r\n",
        "regressor.add(LSTM(units = 50, return_sequences = True, input_shape = (X_train.shape[1], 1)))\r\n",
        "regressor.add(Dropout(0.2))\r\n",
        "\r\n",
        "regressor.add(LSTM(units = 50))\r\n",
        "regressor.add(Dropout(0.2))\r\n",
        "\r\n",
        "regressor.add(Dense(units = 1))"
      ],
      "execution_count": null,
      "outputs": []
    },
    {
      "cell_type": "code",
      "metadata": {
        "id": "K3WKtqy18rUn"
      },
      "source": [
        "regressor.compile(optimizer = 'adam', loss = 'mean_squared_error')"
      ],
      "execution_count": null,
      "outputs": []
    },
    {
      "cell_type": "code",
      "metadata": {
        "colab": {
          "base_uri": "https://localhost:8080/"
        },
        "id": "NMacEztt8tQG",
        "outputId": "f7004415-b928-48a0-c191-229ab7de910c"
      },
      "source": [
        "regressor.summary()"
      ],
      "execution_count": null,
      "outputs": [
        {
          "output_type": "stream",
          "text": [
            "Model: \"sequential\"\n",
            "_________________________________________________________________\n",
            "Layer (type)                 Output Shape              Param #   \n",
            "=================================================================\n",
            "lstm (LSTM)                  (None, 60, 50)            10400     \n",
            "_________________________________________________________________\n",
            "dropout (Dropout)            (None, 60, 50)            0         \n",
            "_________________________________________________________________\n",
            "lstm_1 (LSTM)                (None, 50)                20200     \n",
            "_________________________________________________________________\n",
            "dropout_1 (Dropout)          (None, 50)                0         \n",
            "_________________________________________________________________\n",
            "dense (Dense)                (None, 1)                 51        \n",
            "=================================================================\n",
            "Total params: 30,651\n",
            "Trainable params: 30,651\n",
            "Non-trainable params: 0\n",
            "_________________________________________________________________\n"
          ],
          "name": "stdout"
        }
      ]
    },
    {
      "cell_type": "code",
      "metadata": {
        "colab": {
          "base_uri": "https://localhost:8080/"
        },
        "id": "D1WzQ8PR82n_",
        "outputId": "ec0a7dfd-2bce-4cc3-8e44-d6f751bd0627"
      },
      "source": [
        "regressor.fit(X_train, y_train, epochs = 50, batch_size = 32)"
      ],
      "execution_count": null,
      "outputs": [
        {
          "output_type": "stream",
          "text": [
            "Epoch 1/50\n",
            "50/50 [==============================] - 6s 56ms/step - loss: 0.0595\n",
            "Epoch 2/50\n",
            "50/50 [==============================] - 3s 57ms/step - loss: 0.0030\n",
            "Epoch 3/50\n",
            "50/50 [==============================] - 3s 56ms/step - loss: 0.0026\n",
            "Epoch 4/50\n",
            "50/50 [==============================] - 3s 56ms/step - loss: 0.0027\n",
            "Epoch 5/50\n",
            "50/50 [==============================] - 3s 56ms/step - loss: 0.0024\n",
            "Epoch 6/50\n",
            "50/50 [==============================] - 3s 56ms/step - loss: 0.0022\n",
            "Epoch 7/50\n",
            "50/50 [==============================] - 3s 56ms/step - loss: 0.0025\n",
            "Epoch 8/50\n",
            "50/50 [==============================] - 3s 55ms/step - loss: 0.0025\n",
            "Epoch 9/50\n",
            "50/50 [==============================] - 3s 56ms/step - loss: 0.0022\n",
            "Epoch 10/50\n",
            "50/50 [==============================] - 3s 57ms/step - loss: 0.0020\n",
            "Epoch 11/50\n",
            "50/50 [==============================] - 3s 57ms/step - loss: 0.0022\n",
            "Epoch 12/50\n",
            "50/50 [==============================] - 3s 57ms/step - loss: 0.0023\n",
            "Epoch 13/50\n",
            "50/50 [==============================] - 3s 56ms/step - loss: 0.0021\n",
            "Epoch 14/50\n",
            "50/50 [==============================] - 3s 58ms/step - loss: 0.0021\n",
            "Epoch 15/50\n",
            "50/50 [==============================] - 3s 57ms/step - loss: 0.0020\n",
            "Epoch 16/50\n",
            "50/50 [==============================] - 3s 57ms/step - loss: 0.0022\n",
            "Epoch 17/50\n",
            "50/50 [==============================] - 3s 56ms/step - loss: 0.0021\n",
            "Epoch 18/50\n",
            "50/50 [==============================] - 3s 57ms/step - loss: 0.0022\n",
            "Epoch 19/50\n",
            "50/50 [==============================] - 3s 57ms/step - loss: 0.0018\n",
            "Epoch 20/50\n",
            "50/50 [==============================] - 3s 57ms/step - loss: 0.0018\n",
            "Epoch 21/50\n",
            "50/50 [==============================] - 3s 57ms/step - loss: 0.0017\n",
            "Epoch 22/50\n",
            "50/50 [==============================] - 3s 56ms/step - loss: 0.0019\n",
            "Epoch 23/50\n",
            "50/50 [==============================] - 3s 57ms/step - loss: 0.0016\n",
            "Epoch 24/50\n",
            "50/50 [==============================] - 3s 58ms/step - loss: 0.0017\n",
            "Epoch 25/50\n",
            "50/50 [==============================] - 3s 58ms/step - loss: 0.0017\n",
            "Epoch 26/50\n",
            "50/50 [==============================] - 3s 59ms/step - loss: 0.0017\n",
            "Epoch 27/50\n",
            "50/50 [==============================] - 3s 58ms/step - loss: 0.0016\n",
            "Epoch 28/50\n",
            "50/50 [==============================] - 3s 59ms/step - loss: 0.0015\n",
            "Epoch 29/50\n",
            "50/50 [==============================] - 3s 58ms/step - loss: 0.0013\n",
            "Epoch 30/50\n",
            "50/50 [==============================] - 3s 59ms/step - loss: 0.0017\n",
            "Epoch 31/50\n",
            "50/50 [==============================] - 3s 60ms/step - loss: 0.0017\n",
            "Epoch 32/50\n",
            "50/50 [==============================] - 3s 59ms/step - loss: 0.0014\n",
            "Epoch 33/50\n",
            "50/50 [==============================] - 3s 61ms/step - loss: 0.0015\n",
            "Epoch 34/50\n",
            "50/50 [==============================] - 3s 60ms/step - loss: 0.0013\n",
            "Epoch 35/50\n",
            "50/50 [==============================] - 3s 60ms/step - loss: 0.0014\n",
            "Epoch 36/50\n",
            "50/50 [==============================] - 3s 59ms/step - loss: 0.0016\n",
            "Epoch 37/50\n",
            "50/50 [==============================] - 3s 59ms/step - loss: 0.0013\n",
            "Epoch 38/50\n",
            "50/50 [==============================] - 3s 59ms/step - loss: 0.0014\n",
            "Epoch 39/50\n",
            "50/50 [==============================] - 3s 59ms/step - loss: 0.0013\n",
            "Epoch 40/50\n",
            "50/50 [==============================] - 3s 60ms/step - loss: 0.0012\n",
            "Epoch 41/50\n",
            "50/50 [==============================] - 3s 60ms/step - loss: 0.0013\n",
            "Epoch 42/50\n",
            "50/50 [==============================] - 3s 60ms/step - loss: 0.0013\n",
            "Epoch 43/50\n",
            "50/50 [==============================] - 3s 60ms/step - loss: 0.0012\n",
            "Epoch 44/50\n",
            "50/50 [==============================] - 3s 59ms/step - loss: 0.0011\n",
            "Epoch 45/50\n",
            "50/50 [==============================] - 3s 59ms/step - loss: 0.0011\n",
            "Epoch 46/50\n",
            "50/50 [==============================] - 3s 58ms/step - loss: 0.0011\n",
            "Epoch 47/50\n",
            "50/50 [==============================] - 3s 59ms/step - loss: 0.0012\n",
            "Epoch 48/50\n",
            "50/50 [==============================] - 3s 58ms/step - loss: 0.0012\n",
            "Epoch 49/50\n",
            "50/50 [==============================] - 3s 58ms/step - loss: 0.0011\n",
            "Epoch 50/50\n",
            "50/50 [==============================] - 3s 58ms/step - loss: 0.0011\n"
          ],
          "name": "stdout"
        },
        {
          "output_type": "execute_result",
          "data": {
            "text/plain": [
              "<tensorflow.python.keras.callbacks.History at 0x7fba386197f0>"
            ]
          },
          "metadata": {
            "tags": []
          },
          "execution_count": 15
        }
      ]
    },
    {
      "cell_type": "code",
      "metadata": {
        "id": "DSoNMKqQ_NnN"
      },
      "source": [
        "#getting test data\r\n",
        "\r\n",
        "file_id = '15iacoJgstQA0JR0awd0qnhguEu0Lc9zE'\r\n",
        "downloaded = drive.CreateFile({'id': file_id})\r\n",
        "downloaded.GetContentFile('dataset_daily_msft_half_test.csv')"
      ],
      "execution_count": null,
      "outputs": []
    },
    {
      "cell_type": "code",
      "metadata": {
        "id": "1SsxQ2S3_uk3"
      },
      "source": [
        "dataset_test = pd.read_csv('dataset_daily_msft_half_test.csv')\r\n",
        "real_stock_price = dataset_test.iloc[:, 1:2].values"
      ],
      "execution_count": null,
      "outputs": []
    },
    {
      "cell_type": "code",
      "metadata": {
        "colab": {
          "base_uri": "https://localhost:8080/"
        },
        "id": "2MK0X_eSRm_4",
        "outputId": "ed7b8ea0-59f9-454e-c569-5ad9c54db366"
      },
      "source": [
        "dataset_test.shape"
      ],
      "execution_count": null,
      "outputs": [
        {
          "output_type": "execute_result",
          "data": {
            "text/plain": [
              "(890, 6)"
            ]
          },
          "metadata": {
            "tags": []
          },
          "execution_count": 18
        }
      ]
    },
    {
      "cell_type": "code",
      "metadata": {
        "colab": {
          "base_uri": "https://localhost:8080/",
          "height": 204
        },
        "id": "NYe7b15JR9WX",
        "outputId": "cf7dd4b6-db48-4ef3-8e56-d80fe99252e5"
      },
      "source": [
        "dataset_test.head()"
      ],
      "execution_count": null,
      "outputs": [
        {
          "output_type": "execute_result",
          "data": {
            "text/html": [
              "<div>\n",
              "<style scoped>\n",
              "    .dataframe tbody tr th:only-of-type {\n",
              "        vertical-align: middle;\n",
              "    }\n",
              "\n",
              "    .dataframe tbody tr th {\n",
              "        vertical-align: top;\n",
              "    }\n",
              "\n",
              "    .dataframe thead th {\n",
              "        text-align: right;\n",
              "    }\n",
              "</style>\n",
              "<table border=\"1\" class=\"dataframe\">\n",
              "  <thead>\n",
              "    <tr style=\"text-align: right;\">\n",
              "      <th></th>\n",
              "      <th>timestamp</th>\n",
              "      <th>open</th>\n",
              "      <th>high</th>\n",
              "      <th>low</th>\n",
              "      <th>close</th>\n",
              "      <th>volume</th>\n",
              "    </tr>\n",
              "  </thead>\n",
              "  <tbody>\n",
              "    <tr>\n",
              "      <th>0</th>\n",
              "      <td>2019-01-02</td>\n",
              "      <td>99.55</td>\n",
              "      <td>101.75</td>\n",
              "      <td>98.94</td>\n",
              "      <td>101.12</td>\n",
              "      <td>35329345</td>\n",
              "    </tr>\n",
              "    <tr>\n",
              "      <th>1</th>\n",
              "      <td>2018-12-31</td>\n",
              "      <td>101.29</td>\n",
              "      <td>102.40</td>\n",
              "      <td>100.44</td>\n",
              "      <td>101.57</td>\n",
              "      <td>33173765</td>\n",
              "    </tr>\n",
              "    <tr>\n",
              "      <th>2</th>\n",
              "      <td>2018-12-28</td>\n",
              "      <td>102.09</td>\n",
              "      <td>102.41</td>\n",
              "      <td>99.52</td>\n",
              "      <td>100.39</td>\n",
              "      <td>38169312</td>\n",
              "    </tr>\n",
              "    <tr>\n",
              "      <th>3</th>\n",
              "      <td>2018-12-27</td>\n",
              "      <td>99.30</td>\n",
              "      <td>101.19</td>\n",
              "      <td>96.40</td>\n",
              "      <td>101.18</td>\n",
              "      <td>49498509</td>\n",
              "    </tr>\n",
              "    <tr>\n",
              "      <th>4</th>\n",
              "      <td>2018-12-26</td>\n",
              "      <td>95.14</td>\n",
              "      <td>100.69</td>\n",
              "      <td>93.96</td>\n",
              "      <td>100.56</td>\n",
              "      <td>51634793</td>\n",
              "    </tr>\n",
              "  </tbody>\n",
              "</table>\n",
              "</div>"
            ],
            "text/plain": [
              "    timestamp    open    high     low   close    volume\n",
              "0  2019-01-02   99.55  101.75   98.94  101.12  35329345\n",
              "1  2018-12-31  101.29  102.40  100.44  101.57  33173765\n",
              "2  2018-12-28  102.09  102.41   99.52  100.39  38169312\n",
              "3  2018-12-27   99.30  101.19   96.40  101.18  49498509\n",
              "4  2018-12-26   95.14  100.69   93.96  100.56  51634793"
            ]
          },
          "metadata": {
            "tags": []
          },
          "execution_count": 19
        }
      ]
    },
    {
      "cell_type": "code",
      "metadata": {
        "colab": {
          "base_uri": "https://localhost:8080/"
        },
        "id": "E46F7T6MVihx",
        "outputId": "d2aacffd-9ace-4637-e659-b81a015ee5ce"
      },
      "source": [
        "last_test_index = dataset_test.shape[0] + 60\r\n",
        "last_test_index"
      ],
      "execution_count": null,
      "outputs": [
        {
          "output_type": "execute_result",
          "data": {
            "text/plain": [
              "950"
            ]
          },
          "metadata": {
            "tags": []
          },
          "execution_count": 20
        }
      ]
    },
    {
      "cell_type": "code",
      "metadata": {
        "id": "3I08xqYc_yOr"
      },
      "source": [
        "dataset_total = pd.concat((dataset_train['open'], dataset_test['open']), axis = 0)\r\n",
        "inputs = dataset_total[len(dataset_total) - len(dataset_test) - 60:].values\r\n",
        "inputs = inputs.reshape(-1,1)\r\n",
        "inputs = sc.transform(inputs)\r\n",
        "X_test = []\r\n",
        "for i in range(60, last_test_index): # 1909 is dataset_test x shape + 60, this 60 is days to look back\r\n",
        "    X_test.append(inputs[i-60:i, 0])\r\n",
        "X_test = np.array(X_test)\r\n",
        "X_test = np.reshape(X_test, (X_test.shape[0], X_test.shape[1], 1))\r\n",
        "predicted_stock_price = regressor.predict(X_test)\r\n",
        "predicted_stock_price = sc.inverse_transform(predicted_stock_price)"
      ],
      "execution_count": null,
      "outputs": []
    },
    {
      "cell_type": "code",
      "metadata": {
        "colab": {
          "base_uri": "https://localhost:8080/"
        },
        "id": "VlVghgPbPYXn",
        "outputId": "86cde3df-18f1-49ed-e02f-b98fe9aa3291"
      },
      "source": [
        "# Calculate RMSE performance metrics\r\n",
        "import math\r\n",
        "from sklearn.metrics import mean_squared_error\r\n",
        "math.sqrt(mean_squared_error(real_stock_price, predicted_stock_price))"
      ],
      "execution_count": null,
      "outputs": [
        {
          "output_type": "execute_result",
          "data": {
            "text/plain": [
              "6.677246417422629"
            ]
          },
          "metadata": {
            "tags": []
          },
          "execution_count": 22
        }
      ]
    },
    {
      "cell_type": "code",
      "metadata": {
        "id": "JeiHneZ6Wrtv"
      },
      "source": [
        "plt.rcParams['figure.figsize'] = (25,15)"
      ],
      "execution_count": null,
      "outputs": []
    },
    {
      "cell_type": "code",
      "metadata": {
        "colab": {
          "base_uri": "https://localhost:8080/",
          "height": 716
        },
        "id": "2YJ9dxtCRUZw",
        "outputId": "ea0308ed-4ac1-4c00-8d7a-8dc7d2ed237d"
      },
      "source": [
        "plt.plot(real_stock_price, color = 'black', label = 'MSFT Stock Price')\r\n",
        "plt.plot(predicted_stock_price, color = 'red', label = 'Predicted MSFT Stock Price', linestyle = 'solid')\r\n",
        "plt.title('MSFT Stock Price Prediction')\r\n",
        "plt.xlabel('Time')\r\n",
        "plt.ylabel('MSFT Stock Price')\r\n",
        "plt.legend()\r\n",
        "plt.show()"
      ],
      "execution_count": null,
      "outputs": [
        {
          "output_type": "display_data",
          "data": {
            "image/png": "[encoded data removed]",
            "text/plain": [
              "<Figure size 1800x1080 with 1 Axes>"
            ]
          },
          "metadata": {
            "tags": [],
            "needs_background": "light"
          }
        }
      ]
    }
  ]
}